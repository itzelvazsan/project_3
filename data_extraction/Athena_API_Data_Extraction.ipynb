{
 "cells": [
  {
   "cell_type": "code",
   "execution_count": 36,
   "metadata": {},
   "outputs": [],
   "source": [
    "# Modules we need to import to obtain our data\n",
    "import pandas as pd\n",
    "import numpy as np\n",
    "import matplotlib\n",
    "import requests\n",
    "import json\n",
    "from tqdm import tqdm \n",
    "from pymongo import MongoClient\n",
    "import os\n"
   ]
  },
  {
   "cell_type": "markdown",
   "metadata": {},
   "source": [
    "-=-=-=-=-=-=-=-=-=-=-=-=-=-=-=-=-=-=-=-=-=-=-=-=-  \n",
    "**Requirements:**  \n",
    "1. Data must be stored in and extracted from at least one database (PostgreSQL, MongoDB, SQLite, etc).\n",
    "2. Your project must include at least one JavaScript OR Python library that we did not cover.\n",
    "3. Your project must be powered by a dataset with at least 100 records.  \n",
    "-=-=-=-=-=-=-=-=-=-=-=-=-=-=-=-=-=-=-=-=-=-=-=-=-"
   ]
  },
  {
   "cell_type": "code",
   "execution_count": 37,
   "metadata": {},
   "outputs": [
    {
     "name": "stdout",
     "output_type": "stream",
     "text": [
      "http://apps.who.int/gho/athena/api/GHO/WHS4_100\n",
      "http://apps.who.int/gho/athena/api/GHO/WHS3_43\n",
      "http://apps.who.int/gho/athena/api/GHO/CM_01\n"
     ]
    }
   ],
   "source": [
    "#Set up your API request and URL\n",
    "base_url = \"http://apps.who.int/gho/athena/api/GHO/\"\n",
    "\n",
    "#To obtain the DTP3-containing-vaccine among 1 year olds (%)\n",
    "vacc_rates_code =  \"WHS4_100\"\n",
    "full_vacc_rates_url = f'{base_url}{vacc_rates_code}'\n",
    "\n",
    "#To obtain the percentage of MCV1 Coverage among 1 year olds\n",
    "meas_vacc_rates_code = \"WHS8_110\"\n",
    "meas_vacc_rates_url = f'{base_url}{meas_vacc_rates_code}'\n",
    "\n",
    "#To obtain the Pertussis incidence rate for each country\n",
    "pertussis_incidence_code = \"WHS3_43\"\n",
    "pertussis_incidence_url = f'{base_url}{pertussis_incidence_code}'\n",
    "\n",
    "#To obtain the neonatal tetanus incidence rate for each country\n",
    "tetanus_incidence_code = \"WHS3_56\"\n",
    "tetanus_incidence_url = f'{base_url}{tetanus_incidence_code}'\n",
    "\n",
    "#To obtain the measles incidence rate for each country\n",
    "measles_incidence_code = \"WHS3_62\"\n",
    "measles_incidence_url = f'{base_url}{measles_incidence_code}'\n",
    "\n",
    "#To obtain the total number of diphteria cases for each country\n",
    "diphtheria_incidence_code = \"WHS3_41\"\n",
    "diphtheria_incidence_url = f'{base_url}{diphtheria_incidence_code}'\n",
    "\n",
    "#To obtain the Deaths in children aged <5 years, by cause\n",
    "endpoint_measles_mortality_url = \"https://www.who.int/data/gho/indicator-metadata-registry/imr-details/89\"\n",
    "dtp_mortality_code = \"CM_01\"\n",
    "dtp_mortality_url = f'{base_url}{dtp_mortality_code}'\n",
    "\n",
    "#To define which countries and years we're trying to study\n",
    "countries = []\n",
    "years_list = list(range(2008, 2021))\n",
    "\n",
    "#Let's check the URLs\n",
    "print(full_vacc_rates_url)\n",
    "print(pertussis_incidence_url)\n",
    "print(dtp_mortality_url)"
   ]
  },
  {
   "cell_type": "markdown",
   "metadata": {},
   "source": [
    "The queries (without a filter) should read: \n",
    "1. http://apps.who.int/GHO/MCV2/\n",
    "2. http://apps.who.int/GHO/WHS3_62\n",
    "3. http://apps.who.int/GHO/WHS2_168"
   ]
  },
  {
   "cell_type": "code",
   "execution_count": 38,
   "metadata": {},
   "outputs": [
    {
     "name": "stdout",
     "output_type": "stream",
     "text": [
      "{'Antigua and Barbuda': 'ATG', 'Argentina': 'ARG', 'Bahamas': 'BHS', 'Barbados': 'BRB', 'Belize': 'BLZ', 'Bolivia': 'BOL', 'Brazil': 'BRA', 'Canada': 'CAN', 'Chile': 'CHL', 'Colombia': 'COL', 'Costa Rica': 'CRI', 'Cuba': 'CUB', 'Dominica': 'DMA', 'Dominican Republic': 'DOM', 'Ecuador': 'ECU', 'El Salvador': 'SLV', 'Grenada': 'GRD', 'Guatemala': 'GTM', 'Guyana': 'GUY', 'Haiti': 'HTI', 'Honduras': 'HND', 'Jamaica': 'JAM', 'Mexico': 'MEX', 'Nicaragua': 'NIC', 'Panama': 'PAN', 'Paraguay': 'PRY', 'Peru': 'PER', 'Saint Kitts and Nevis': 'KNA', 'Saint Lucia': 'LCA', 'Saint Vincent and the Grenadines': 'VCT', 'Suriname': 'SUR', 'Trinidad and Tobago': 'TTO', 'United States of America': 'USA', 'Uruguay': 'URY', 'Venezuela': 'VEN'}\n"
     ]
    }
   ],
   "source": [
    "# Let's assign a list of country codes to each country\n",
    "country_codes = \"/Users/Kenji-to/Documents/GitHub/Module Challenges/Project 3/country-codes-WHO.csv\" \n",
    "df_country_codes = pd.read_csv(country_codes)\n",
    "\n",
    "# AI USE: We obtained this list of countries by using a ChatGPT Prompt\n",
    "american_countries = [\n",
    "    \"Argentina\", \"Bolivia\", \"Brazil\", \"Chile\", \"Colombia\", \n",
    "    \"Ecuador\", \"Guyana\", \"Paraguay\", \"Peru\", \"Suriname\", \n",
    "    \"Uruguay\", \"Venezuela\", \"Antigua and Barbuda\", \"Bahamas\", \n",
    "    \"Barbados\", \"Belize\", \"Canada\", \"Costa Rica\", \"Cuba\", \n",
    "    \"Dominica\", \"Dominican Republic\", \"El Salvador\", \"Grenada\", \n",
    "    \"Guatemala\", \"Haiti\", \"Honduras\", \"Jamaica\", \"Mexico\", \n",
    "    \"Nicaragua\", \"Panama\", \"Saint Kitts and Nevis\", \"Saint Lucia\", \n",
    "    \"Saint Vincent and the Grenadines\", \"Trinidad and Tobago\", \n",
    "    \"United States of America\"\n",
    "]\n",
    "\n",
    "american_country_codes = {row[\"COUNTRY\"]: row[\"CODE\"] for _, row in df_country_codes.iterrows() if row[\"COUNTRY\"] in american_countries}\n",
    "print(american_country_codes)\n",
    "\n",
    "query_codes = list(american_country_codes.values())\n",
    "        \n",
    "\n"
   ]
  },
  {
   "cell_type": "code",
   "execution_count": 39,
   "metadata": {},
   "outputs": [],
   "source": [
    "#In order to filter by country, we need to add \"?filter=COUNTRY:COUNTRY_NAME\" to the query.\n",
    "filter = \"?filter=\"\n",
    "country_name = \"\"\n",
    "filter_country = f\"?filter=SpatialDimType:COUNTRY,SpatialDim={{country_code}}\"\n",
    "filter_divider = \";\"\n",
    "year = \"\"\n",
    "filter_year = f\";TimeDimType:YEAR,TimeDim={{year}}\""
   ]
  },
  {
   "cell_type": "code",
   "execution_count": 40,
   "metadata": {},
   "outputs": [
    {
     "name": "stdout",
     "output_type": "stream",
     "text": [
      "Response Keys: dict_keys(['@odata.context', 'value'])\n",
      "Retrieved Country Codes: ['ABW', 'AFG', 'AGO', 'AIA', 'ALB', 'AND', 'ARE', 'ARG', 'ARM', 'ASM', 'ATG', 'AUS', 'AUT', 'AZE', 'BDI', 'BEL', 'BEN', 'BES', 'BFA', 'BGD', 'BGR', 'BHR', 'BHS', 'BIH', 'BLR', 'BLZ', 'BMU', 'BOL', 'BRA', 'BRB', 'BRN', 'BTN', 'BWA', 'CAF', 'CAN', 'CHE', 'CHI', 'CHL', 'CHN', 'CIV', 'CMR', 'COD', 'COG', 'COK', 'COL', 'COM', 'CPV', 'CRI', 'CUB', 'CUW', 'CYM', 'CYP', 'CZE', 'DEU', 'DJI', 'DMA', 'DNK', 'DOM', 'DZA', 'ECU', 'EGY', 'ERI', 'ESP', 'EST', 'ETH', 'FIN', 'FJI', 'FLK', 'FRA', 'FRO', 'FSM', 'GAB', 'GBR', 'GEO', 'GHA', 'GIB', 'GIN', 'GLP', 'GMB', 'GNB', 'GNQ', 'GRC', 'GRD', 'GRL', 'GTM', 'GUF', 'GUM', 'GUY', 'HKG', 'HND', 'HRV', 'HTI', 'HUN', 'IDN', 'IMN', 'IND', 'IRL', 'IRN', 'IRQ', 'ISL', 'ISR', 'ITA', 'JAM', 'JOR', 'JPN', 'KAZ', 'KEN', 'KGZ', 'KHM', 'KIR', 'KNA', 'KOR', 'KWT', 'LAO', 'LBN', 'LBR', 'LBY', 'LCA', 'LIE', 'LKA', 'LSO', 'LTU', 'LUX', 'LVA', 'MAC', 'MAR', 'MCO', 'MDA', 'MDG', 'MDV', 'ME1', 'MEX', 'MHL', 'MKD', 'MLI', 'MLT', 'MMR', 'MNE', 'MNG', 'MNP', 'MOZ', 'MRT', 'MSR', 'MTQ', 'MUS', 'MWI', 'MYS', 'MYT', 'NAM', 'NCL', 'NER', 'NGA', 'NIC', 'NIU', 'NLD', 'NOR', 'NPL', 'NRU', 'NZL', 'OMN', 'PAK', 'PAN', 'PER', 'PHL', 'PLW', 'PNG', 'POL', 'PRI', 'PRK', 'PRT', 'PRY', 'PSE', 'PYF', 'QAT', 'REU', 'ROU', 'RUS', 'RWA', 'SAU', 'SDN', 'SDN736', 'SEN', 'SGP', 'SHN', 'SLB', 'SLE', 'SLV', 'SMR', 'SOM', 'SPM', 'SRB', 'SSD', 'STP', 'SUR', 'SVK', 'SVN', 'SWE', 'SWZ', 'SXM', 'SYC', 'SYR', 'TCA', 'TCD', 'TGO', 'THA', 'TJK', 'TKL', 'TKM', 'TLS', 'TON', 'TTO', 'TUN', 'TUR', 'TUV', 'TZA', 'UGA', 'UKR', 'URY', 'USA', 'UZB', 'VCT', 'VEN', 'VGB', 'VIR', 'VNM', 'VUT', 'WLF', 'WSM', 'XKX', 'YEM', 'ZAF', 'ZMB', 'ZWE']\n",
      "Status: RETRIEVED\n",
      "Status: RETRIEVED\n"
     ]
    },
    {
     "data": {
      "text/plain": [
       "<Response [200]>"
      ]
     },
     "execution_count": 40,
     "metadata": {},
     "output_type": "execute_result"
    }
   ],
   "source": [
    "#To obtain country codes.\n",
    "\n",
    "country_code_url = \"https://ghoapi.azureedge.net/api/DIMENSION/COUNTRY/DimensionValues\"\n",
    "\n",
    "response = requests.get(country_code_url)\n",
    "\n",
    "if response.status_code == 200:  \n",
    "    data = response.json()  \n",
    "    print(\"Response Keys:\", data.keys())  \n",
    "\n",
    "if \"value\" in data:\n",
    "    country_codes = [entry[\"Code\"] for entry in data[\"value\"] if \"Code\" in entry]\n",
    "    print(\"Retrieved Country Codes:\", country_codes)\n",
    "  \n",
    "    for print_response in data:  \n",
    "        sentence = f'Status: RETRIEVED'\n",
    "        print(sentence)  \n",
    "else:  \n",
    "    sentence = f'Status: NOT RETRIEVED'  \n",
    "    print(sentence)  \n",
    "response"
   ]
  },
  {
   "cell_type": "code",
   "execution_count": 41,
   "metadata": {},
   "outputs": [
    {
     "name": "stderr",
     "output_type": "stream",
     "text": [
      "Processing Countries:   0%|          | 0/35 [00:00<?, ?it/s]"
     ]
    },
    {
     "name": "stdout",
     "output_type": "stream",
     "text": [
      "✅ Correct country code for Argentina was assigned.\n"
     ]
    },
    {
     "name": "stderr",
     "output_type": "stream",
     "text": [
      "Processing Countries:   3%|▎         | 1/35 [00:01<01:07,  1.98s/it]"
     ]
    },
    {
     "name": "stdout",
     "output_type": "stream",
     "text": [
      "Pertussis incidence rate for Argentina was downloaded succesfully!\n",
      "✅ Correct country code for Bolivia was assigned.\n"
     ]
    },
    {
     "name": "stderr",
     "output_type": "stream",
     "text": [
      "Processing Countries:   6%|▌         | 2/35 [00:03<00:49,  1.49s/it]"
     ]
    },
    {
     "name": "stdout",
     "output_type": "stream",
     "text": [
      "Pertussis incidence rate for Bolivia was downloaded succesfully!\n",
      "✅ Correct country code for Brazil was assigned.\n"
     ]
    },
    {
     "name": "stderr",
     "output_type": "stream",
     "text": [
      "Processing Countries:   9%|▊         | 3/35 [00:04<00:39,  1.25s/it]"
     ]
    },
    {
     "name": "stdout",
     "output_type": "stream",
     "text": [
      "Pertussis incidence rate for Brazil was downloaded succesfully!\n",
      "✅ Correct country code for Chile was assigned.\n"
     ]
    },
    {
     "name": "stderr",
     "output_type": "stream",
     "text": [
      "Processing Countries:  11%|█▏        | 4/35 [00:05<00:34,  1.13s/it]"
     ]
    },
    {
     "name": "stdout",
     "output_type": "stream",
     "text": [
      "Pertussis incidence rate for Chile was downloaded succesfully!\n",
      "✅ Correct country code for Colombia was assigned.\n"
     ]
    },
    {
     "name": "stderr",
     "output_type": "stream",
     "text": [
      "Processing Countries:  14%|█▍        | 5/35 [00:06<00:34,  1.13s/it]"
     ]
    },
    {
     "name": "stdout",
     "output_type": "stream",
     "text": [
      "Pertussis incidence rate for Colombia was downloaded succesfully!\n",
      "✅ Correct country code for Ecuador was assigned.\n"
     ]
    },
    {
     "name": "stderr",
     "output_type": "stream",
     "text": [
      "Processing Countries:  17%|█▋        | 6/35 [00:07<00:31,  1.07s/it]"
     ]
    },
    {
     "name": "stdout",
     "output_type": "stream",
     "text": [
      "Pertussis incidence rate for Ecuador was downloaded succesfully!\n",
      "✅ Correct country code for Guyana was assigned.\n"
     ]
    },
    {
     "name": "stderr",
     "output_type": "stream",
     "text": [
      "Processing Countries:  20%|██        | 7/35 [00:08<00:28,  1.04s/it]"
     ]
    },
    {
     "name": "stdout",
     "output_type": "stream",
     "text": [
      "Pertussis incidence rate for Guyana was downloaded succesfully!\n",
      "✅ Correct country code for Paraguay was assigned.\n"
     ]
    },
    {
     "name": "stderr",
     "output_type": "stream",
     "text": [
      "Processing Countries:  23%|██▎       | 8/35 [00:09<00:28,  1.07s/it]"
     ]
    },
    {
     "name": "stdout",
     "output_type": "stream",
     "text": [
      "Pertussis incidence rate for Paraguay was downloaded succesfully!\n",
      "✅ Correct country code for Peru was assigned.\n"
     ]
    },
    {
     "name": "stderr",
     "output_type": "stream",
     "text": [
      "Processing Countries:  26%|██▌       | 9/35 [00:10<00:26,  1.03s/it]"
     ]
    },
    {
     "name": "stdout",
     "output_type": "stream",
     "text": [
      "Pertussis incidence rate for Peru was downloaded succesfully!\n",
      "✅ Correct country code for Suriname was assigned.\n"
     ]
    },
    {
     "name": "stderr",
     "output_type": "stream",
     "text": [
      "Processing Countries:  29%|██▊       | 10/35 [00:11<00:25,  1.00s/it]"
     ]
    },
    {
     "name": "stdout",
     "output_type": "stream",
     "text": [
      "Pertussis incidence rate for Suriname was downloaded succesfully!\n",
      "✅ Correct country code for Uruguay was assigned.\n"
     ]
    },
    {
     "name": "stderr",
     "output_type": "stream",
     "text": [
      "Processing Countries:  31%|███▏      | 11/35 [00:12<00:23,  1.01it/s]"
     ]
    },
    {
     "name": "stdout",
     "output_type": "stream",
     "text": [
      "Pertussis incidence rate for Uruguay was downloaded succesfully!\n",
      "✅ Correct country code for Venezuela was assigned.\n"
     ]
    },
    {
     "name": "stderr",
     "output_type": "stream",
     "text": [
      "Processing Countries:  34%|███▍      | 12/35 [00:13<00:22,  1.02it/s]"
     ]
    },
    {
     "name": "stdout",
     "output_type": "stream",
     "text": [
      "Pertussis incidence rate for Venezuela was downloaded succesfully!\n",
      "✅ Correct country code for Antigua and Barbuda was assigned.\n"
     ]
    },
    {
     "name": "stderr",
     "output_type": "stream",
     "text": [
      "Processing Countries:  37%|███▋      | 13/35 [00:14<00:21,  1.02it/s]"
     ]
    },
    {
     "name": "stdout",
     "output_type": "stream",
     "text": [
      "Pertussis incidence rate for Antigua and Barbuda was downloaded succesfully!\n",
      "✅ Correct country code for Bahamas was assigned.\n"
     ]
    },
    {
     "name": "stderr",
     "output_type": "stream",
     "text": [
      "Processing Countries:  40%|████      | 14/35 [00:14<00:20,  1.03it/s]"
     ]
    },
    {
     "name": "stdout",
     "output_type": "stream",
     "text": [
      "Pertussis incidence rate for Bahamas was downloaded succesfully!\n",
      "✅ Correct country code for Barbados was assigned.\n"
     ]
    },
    {
     "name": "stderr",
     "output_type": "stream",
     "text": [
      "Processing Countries:  43%|████▎     | 15/35 [00:15<00:19,  1.04it/s]"
     ]
    },
    {
     "name": "stdout",
     "output_type": "stream",
     "text": [
      "Pertussis incidence rate for Barbados was downloaded succesfully!\n",
      "✅ Correct country code for Belize was assigned.\n"
     ]
    },
    {
     "name": "stderr",
     "output_type": "stream",
     "text": [
      "Processing Countries:  46%|████▌     | 16/35 [00:17<00:24,  1.30s/it]"
     ]
    },
    {
     "name": "stdout",
     "output_type": "stream",
     "text": [
      "Pertussis incidence rate for Belize was downloaded succesfully!\n",
      "✅ Correct country code for Canada was assigned.\n"
     ]
    },
    {
     "name": "stderr",
     "output_type": "stream",
     "text": [
      "Processing Countries:  49%|████▊     | 17/35 [00:18<00:21,  1.19s/it]"
     ]
    },
    {
     "name": "stdout",
     "output_type": "stream",
     "text": [
      "Pertussis incidence rate for Canada was downloaded succesfully!\n",
      "✅ Correct country code for Costa Rica was assigned.\n"
     ]
    },
    {
     "name": "stderr",
     "output_type": "stream",
     "text": [
      "Processing Countries:  51%|█████▏    | 18/35 [00:20<00:20,  1.18s/it]"
     ]
    },
    {
     "name": "stdout",
     "output_type": "stream",
     "text": [
      "Pertussis incidence rate for Costa Rica was downloaded succesfully!\n",
      "✅ Correct country code for Cuba was assigned.\n"
     ]
    },
    {
     "name": "stderr",
     "output_type": "stream",
     "text": [
      "Processing Countries:  54%|█████▍    | 19/35 [00:21<00:17,  1.11s/it]"
     ]
    },
    {
     "name": "stdout",
     "output_type": "stream",
     "text": [
      "Pertussis incidence rate for Cuba was downloaded succesfully!\n",
      "✅ Correct country code for Dominica was assigned.\n"
     ]
    },
    {
     "name": "stderr",
     "output_type": "stream",
     "text": [
      "Processing Countries:  57%|█████▋    | 20/35 [00:22<00:16,  1.07s/it]"
     ]
    },
    {
     "name": "stdout",
     "output_type": "stream",
     "text": [
      "Pertussis incidence rate for Dominica was downloaded succesfully!\n",
      "✅ Correct country code for Dominican Republic was assigned.\n"
     ]
    },
    {
     "name": "stderr",
     "output_type": "stream",
     "text": [
      "Processing Countries:  60%|██████    | 21/35 [00:23<00:15,  1.09s/it]"
     ]
    },
    {
     "name": "stdout",
     "output_type": "stream",
     "text": [
      "Pertussis incidence rate for Dominican Republic was downloaded succesfully!\n",
      "✅ Correct country code for El Salvador was assigned.\n"
     ]
    },
    {
     "name": "stderr",
     "output_type": "stream",
     "text": [
      "Processing Countries:  63%|██████▎   | 22/35 [00:24<00:13,  1.05s/it]"
     ]
    },
    {
     "name": "stdout",
     "output_type": "stream",
     "text": [
      "Pertussis incidence rate for El Salvador was downloaded succesfully!\n",
      "✅ Correct country code for Grenada was assigned.\n"
     ]
    },
    {
     "name": "stderr",
     "output_type": "stream",
     "text": [
      "Processing Countries:  66%|██████▌   | 23/35 [00:25<00:12,  1.02s/it]"
     ]
    },
    {
     "name": "stdout",
     "output_type": "stream",
     "text": [
      "Pertussis incidence rate for Grenada was downloaded succesfully!\n",
      "✅ Correct country code for Guatemala was assigned.\n"
     ]
    },
    {
     "name": "stderr",
     "output_type": "stream",
     "text": [
      "Processing Countries:  69%|██████▊   | 24/35 [00:25<00:10,  1.01it/s]"
     ]
    },
    {
     "name": "stdout",
     "output_type": "stream",
     "text": [
      "Pertussis incidence rate for Guatemala was downloaded succesfully!\n",
      "✅ Correct country code for Haiti was assigned.\n"
     ]
    },
    {
     "name": "stderr",
     "output_type": "stream",
     "text": [
      "Processing Countries:  71%|███████▏  | 25/35 [00:26<00:09,  1.02it/s]"
     ]
    },
    {
     "name": "stdout",
     "output_type": "stream",
     "text": [
      "Pertussis incidence rate for Haiti was downloaded succesfully!\n",
      "✅ Correct country code for Honduras was assigned.\n"
     ]
    },
    {
     "name": "stderr",
     "output_type": "stream",
     "text": [
      "Processing Countries:  74%|███████▍  | 26/35 [00:27<00:08,  1.03it/s]"
     ]
    },
    {
     "name": "stdout",
     "output_type": "stream",
     "text": [
      "Pertussis incidence rate for Honduras was downloaded succesfully!\n",
      "✅ Correct country code for Jamaica was assigned.\n"
     ]
    },
    {
     "name": "stderr",
     "output_type": "stream",
     "text": [
      "Processing Countries:  77%|███████▋  | 27/35 [00:28<00:07,  1.03it/s]"
     ]
    },
    {
     "name": "stdout",
     "output_type": "stream",
     "text": [
      "Pertussis incidence rate for Jamaica was downloaded succesfully!\n",
      "✅ Correct country code for Mexico was assigned.\n"
     ]
    },
    {
     "name": "stderr",
     "output_type": "stream",
     "text": [
      "Processing Countries:  80%|████████  | 28/35 [00:29<00:06,  1.04it/s]"
     ]
    },
    {
     "name": "stdout",
     "output_type": "stream",
     "text": [
      "Pertussis incidence rate for Mexico was downloaded succesfully!\n",
      "✅ Correct country code for Nicaragua was assigned.\n"
     ]
    },
    {
     "name": "stderr",
     "output_type": "stream",
     "text": [
      "Processing Countries:  83%|████████▎ | 29/35 [00:30<00:05,  1.05it/s]"
     ]
    },
    {
     "name": "stdout",
     "output_type": "stream",
     "text": [
      "Pertussis incidence rate for Nicaragua was downloaded succesfully!\n",
      "✅ Correct country code for Panama was assigned.\n"
     ]
    },
    {
     "name": "stderr",
     "output_type": "stream",
     "text": [
      "Processing Countries:  86%|████████▌ | 30/35 [00:31<00:04,  1.04it/s]"
     ]
    },
    {
     "name": "stdout",
     "output_type": "stream",
     "text": [
      "Pertussis incidence rate for Panama was downloaded succesfully!\n",
      "✅ Correct country code for Saint Kitts and Nevis was assigned.\n"
     ]
    },
    {
     "name": "stderr",
     "output_type": "stream",
     "text": [
      "Processing Countries:  89%|████████▊ | 31/35 [00:32<00:03,  1.04it/s]"
     ]
    },
    {
     "name": "stdout",
     "output_type": "stream",
     "text": [
      "Pertussis incidence rate for Saint Kitts and Nevis was downloaded succesfully!\n",
      "✅ Correct country code for Saint Lucia was assigned.\n"
     ]
    },
    {
     "name": "stderr",
     "output_type": "stream",
     "text": [
      "Processing Countries:  91%|█████████▏| 32/35 [00:33<00:02,  1.04it/s]"
     ]
    },
    {
     "name": "stdout",
     "output_type": "stream",
     "text": [
      "Pertussis incidence rate for Saint Lucia was downloaded succesfully!\n",
      "✅ Correct country code for Saint Vincent and the Grenadines was assigned.\n"
     ]
    },
    {
     "name": "stderr",
     "output_type": "stream",
     "text": [
      "Processing Countries:  94%|█████████▍| 33/35 [00:34<00:01,  1.04it/s]"
     ]
    },
    {
     "name": "stdout",
     "output_type": "stream",
     "text": [
      "Pertussis incidence rate for Saint Vincent and the Grenadines was downloaded succesfully!\n",
      "✅ Correct country code for Trinidad and Tobago was assigned.\n"
     ]
    },
    {
     "name": "stderr",
     "output_type": "stream",
     "text": [
      "Processing Countries:  97%|█████████▋| 34/35 [00:35<00:00,  1.04it/s]"
     ]
    },
    {
     "name": "stdout",
     "output_type": "stream",
     "text": [
      "Pertussis incidence rate for Trinidad and Tobago was downloaded succesfully!\n",
      "✅ Correct country code for United States of America was assigned.\n"
     ]
    },
    {
     "name": "stderr",
     "output_type": "stream",
     "text": [
      "Processing Countries: 100%|██████████| 35/35 [00:36<00:00,  1.04s/it]"
     ]
    },
    {
     "name": "stdout",
     "output_type": "stream",
     "text": [
      "Pertussis incidence rate for United States of America was downloaded succesfully!\n"
     ]
    },
    {
     "name": "stderr",
     "output_type": "stream",
     "text": [
      "\n"
     ]
    }
   ],
   "source": [
    "# Pertussis incidence database\n",
    "for i in tqdm(range(len(american_countries)), desc=\"Processing Countries\", leave=True, position=0):  \n",
    "    #Let's set the variables we're going to use\n",
    "    name = american_countries[i]  \n",
    "    country_code = american_country_codes.get(name)\n",
    "    output_csv = f'/Users/Kenji-to/Documents/GitHub/Module Challenges/Project 3/Databases_RAW/Pertussis_Incidence/Pertussis_Incidence_{name}.csv'\n",
    "    \n",
    "    if country_code is None:\n",
    "        tqdm.write(f'Country code for {name} was not found')\n",
    "        continue\n",
    "\n",
    "    if country_code in american_country_codes.values():\n",
    "        tqdm.write(f'✅ Correct country code for {name} was assigned.')\n",
    "    else:\n",
    "        tqdm.write(f'❌ Country code for {name} is incorrect')\n",
    "\n",
    "    #Query we're going to use.\n",
    "    retrieve_query = f\"{pertussis_incidence_url}.csv?filter=COUNTRY:{country_code}\"\n",
    "\n",
    "    try:\n",
    "        response = requests.get(retrieve_query, stream = True)\n",
    "        response.raise_for_status()  \n",
    "\n",
    "        with open(f'/Users/Kenji-to/Documents/GitHub/Module Challenges/Project 3/Databases_RAW/Pertussis_Incidence/Pertussis_Incidence_{name}.csv', 'wb') as file:\n",
    "            for chunk in response.iter_content(chunk_size=8192): \n",
    "                if chunk:\n",
    "                    file.write(chunk)\n",
    "        print(f'Pertussis incidence rate for {name} was downloaded succesfully!')\n",
    "    \n",
    "    except requests.exceptions.RequestException as e:\n",
    "        print(f'An error occurred. Check the log: {e}')"
   ]
  },
  {
   "cell_type": "code",
   "execution_count": 42,
   "metadata": {},
   "outputs": [
    {
     "name": "stderr",
     "output_type": "stream",
     "text": [
      "Processing Countries:   0%|          | 0/35 [00:00<?, ?it/s]"
     ]
    },
    {
     "name": "stdout",
     "output_type": "stream",
     "text": [
      "✅ Correct country code for Argentina was assigned.\n"
     ]
    },
    {
     "name": "stderr",
     "output_type": "stream",
     "text": [
      "Processing Countries:   3%|▎         | 1/35 [00:00<00:32,  1.04it/s]"
     ]
    },
    {
     "name": "stdout",
     "output_type": "stream",
     "text": [
      "Tetanus incidence rate for Argentina was downloaded succesfully!\n",
      "✅ Correct country code for Bolivia was assigned.\n"
     ]
    },
    {
     "name": "stderr",
     "output_type": "stream",
     "text": [
      "Processing Countries:   6%|▌         | 2/35 [00:01<00:31,  1.04it/s]"
     ]
    },
    {
     "name": "stdout",
     "output_type": "stream",
     "text": [
      "Tetanus incidence rate for Bolivia was downloaded succesfully!\n",
      "✅ Correct country code for Brazil was assigned.\n"
     ]
    },
    {
     "name": "stderr",
     "output_type": "stream",
     "text": [
      "Processing Countries:   9%|▊         | 3/35 [00:02<00:31,  1.03it/s]"
     ]
    },
    {
     "name": "stdout",
     "output_type": "stream",
     "text": [
      "Tetanus incidence rate for Brazil was downloaded succesfully!\n",
      "✅ Correct country code for Chile was assigned.\n"
     ]
    },
    {
     "name": "stderr",
     "output_type": "stream",
     "text": [
      "Processing Countries:  11%|█▏        | 4/35 [00:03<00:30,  1.03it/s]"
     ]
    },
    {
     "name": "stdout",
     "output_type": "stream",
     "text": [
      "Tetanus incidence rate for Chile was downloaded succesfully!\n",
      "✅ Correct country code for Colombia was assigned.\n"
     ]
    },
    {
     "name": "stderr",
     "output_type": "stream",
     "text": [
      "Processing Countries:  14%|█▍        | 5/35 [00:04<00:29,  1.03it/s]"
     ]
    },
    {
     "name": "stdout",
     "output_type": "stream",
     "text": [
      "Tetanus incidence rate for Colombia was downloaded succesfully!\n",
      "✅ Correct country code for Ecuador was assigned.\n"
     ]
    },
    {
     "name": "stderr",
     "output_type": "stream",
     "text": [
      "Processing Countries:  17%|█▋        | 6/35 [00:05<00:27,  1.04it/s]"
     ]
    },
    {
     "name": "stdout",
     "output_type": "stream",
     "text": [
      "Tetanus incidence rate for Ecuador was downloaded succesfully!\n",
      "✅ Correct country code for Guyana was assigned.\n"
     ]
    },
    {
     "name": "stderr",
     "output_type": "stream",
     "text": [
      "Processing Countries:  20%|██        | 7/35 [00:06<00:26,  1.04it/s]"
     ]
    },
    {
     "name": "stdout",
     "output_type": "stream",
     "text": [
      "Tetanus incidence rate for Guyana was downloaded succesfully!\n",
      "✅ Correct country code for Paraguay was assigned.\n"
     ]
    },
    {
     "name": "stderr",
     "output_type": "stream",
     "text": [
      "Processing Countries:  23%|██▎       | 8/35 [00:07<00:25,  1.05it/s]"
     ]
    },
    {
     "name": "stdout",
     "output_type": "stream",
     "text": [
      "Tetanus incidence rate for Paraguay was downloaded succesfully!\n",
      "✅ Correct country code for Peru was assigned.\n"
     ]
    },
    {
     "name": "stderr",
     "output_type": "stream",
     "text": [
      "Processing Countries:  26%|██▌       | 9/35 [00:08<00:24,  1.05it/s]"
     ]
    },
    {
     "name": "stdout",
     "output_type": "stream",
     "text": [
      "Tetanus incidence rate for Peru was downloaded succesfully!\n",
      "✅ Correct country code for Suriname was assigned.\n"
     ]
    },
    {
     "name": "stderr",
     "output_type": "stream",
     "text": [
      "Processing Countries:  29%|██▊       | 10/35 [00:09<00:23,  1.05it/s]"
     ]
    },
    {
     "name": "stdout",
     "output_type": "stream",
     "text": [
      "Tetanus incidence rate for Suriname was downloaded succesfully!\n",
      "✅ Correct country code for Uruguay was assigned.\n"
     ]
    },
    {
     "name": "stderr",
     "output_type": "stream",
     "text": [
      "Processing Countries:  31%|███▏      | 11/35 [00:10<00:22,  1.05it/s]"
     ]
    },
    {
     "name": "stdout",
     "output_type": "stream",
     "text": [
      "Tetanus incidence rate for Uruguay was downloaded succesfully!\n",
      "✅ Correct country code for Venezuela was assigned.\n"
     ]
    },
    {
     "name": "stderr",
     "output_type": "stream",
     "text": [
      "Processing Countries:  34%|███▍      | 12/35 [00:11<00:21,  1.05it/s]"
     ]
    },
    {
     "name": "stdout",
     "output_type": "stream",
     "text": [
      "Tetanus incidence rate for Venezuela was downloaded succesfully!\n",
      "✅ Correct country code for Antigua and Barbuda was assigned.\n"
     ]
    },
    {
     "name": "stderr",
     "output_type": "stream",
     "text": [
      "Processing Countries:  37%|███▋      | 13/35 [00:12<00:21,  1.05it/s]"
     ]
    },
    {
     "name": "stdout",
     "output_type": "stream",
     "text": [
      "Tetanus incidence rate for Antigua and Barbuda was downloaded succesfully!\n",
      "✅ Correct country code for Bahamas was assigned.\n"
     ]
    },
    {
     "name": "stderr",
     "output_type": "stream",
     "text": [
      "Processing Countries:  40%|████      | 14/35 [00:13<00:20,  1.04it/s]"
     ]
    },
    {
     "name": "stdout",
     "output_type": "stream",
     "text": [
      "Tetanus incidence rate for Bahamas was downloaded succesfully!\n",
      "✅ Correct country code for Barbados was assigned.\n"
     ]
    },
    {
     "name": "stderr",
     "output_type": "stream",
     "text": [
      "Processing Countries:  43%|████▎     | 15/35 [00:14<00:19,  1.04it/s]"
     ]
    },
    {
     "name": "stdout",
     "output_type": "stream",
     "text": [
      "Tetanus incidence rate for Barbados was downloaded succesfully!\n",
      "✅ Correct country code for Belize was assigned.\n"
     ]
    },
    {
     "name": "stderr",
     "output_type": "stream",
     "text": [
      "Processing Countries:  46%|████▌     | 16/35 [00:15<00:18,  1.04it/s]"
     ]
    },
    {
     "name": "stdout",
     "output_type": "stream",
     "text": [
      "Tetanus incidence rate for Belize was downloaded succesfully!\n",
      "✅ Correct country code for Canada was assigned.\n"
     ]
    },
    {
     "name": "stderr",
     "output_type": "stream",
     "text": [
      "Processing Countries:  49%|████▊     | 17/35 [00:16<00:17,  1.05it/s]"
     ]
    },
    {
     "name": "stdout",
     "output_type": "stream",
     "text": [
      "Tetanus incidence rate for Canada was downloaded succesfully!\n",
      "✅ Correct country code for Costa Rica was assigned.\n"
     ]
    },
    {
     "name": "stderr",
     "output_type": "stream",
     "text": [
      "Processing Countries:  51%|█████▏    | 18/35 [00:17<00:16,  1.05it/s]"
     ]
    },
    {
     "name": "stdout",
     "output_type": "stream",
     "text": [
      "Tetanus incidence rate for Costa Rica was downloaded succesfully!\n",
      "✅ Correct country code for Cuba was assigned.\n"
     ]
    },
    {
     "name": "stderr",
     "output_type": "stream",
     "text": [
      "Processing Countries:  54%|█████▍    | 19/35 [00:18<00:15,  1.04it/s]"
     ]
    },
    {
     "name": "stdout",
     "output_type": "stream",
     "text": [
      "Tetanus incidence rate for Cuba was downloaded succesfully!\n",
      "✅ Correct country code for Dominica was assigned.\n"
     ]
    },
    {
     "name": "stderr",
     "output_type": "stream",
     "text": [
      "Processing Countries:  57%|█████▋    | 20/35 [00:19<00:14,  1.05it/s]"
     ]
    },
    {
     "name": "stdout",
     "output_type": "stream",
     "text": [
      "Tetanus incidence rate for Dominica was downloaded succesfully!\n",
      "✅ Correct country code for Dominican Republic was assigned.\n"
     ]
    },
    {
     "name": "stderr",
     "output_type": "stream",
     "text": [
      "Processing Countries:  60%|██████    | 21/35 [00:20<00:13,  1.05it/s]"
     ]
    },
    {
     "name": "stdout",
     "output_type": "stream",
     "text": [
      "Tetanus incidence rate for Dominican Republic was downloaded succesfully!\n",
      "✅ Correct country code for El Salvador was assigned.\n"
     ]
    },
    {
     "name": "stderr",
     "output_type": "stream",
     "text": [
      "Processing Countries:  63%|██████▎   | 22/35 [00:21<00:12,  1.05it/s]"
     ]
    },
    {
     "name": "stdout",
     "output_type": "stream",
     "text": [
      "Tetanus incidence rate for El Salvador was downloaded succesfully!\n",
      "✅ Correct country code for Grenada was assigned.\n"
     ]
    },
    {
     "name": "stderr",
     "output_type": "stream",
     "text": [
      "Processing Countries:  66%|██████▌   | 23/35 [00:22<00:11,  1.04it/s]"
     ]
    },
    {
     "name": "stdout",
     "output_type": "stream",
     "text": [
      "Tetanus incidence rate for Grenada was downloaded succesfully!\n",
      "✅ Correct country code for Guatemala was assigned.\n"
     ]
    },
    {
     "name": "stderr",
     "output_type": "stream",
     "text": [
      "Processing Countries:  69%|██████▊   | 24/35 [00:23<00:10,  1.04it/s]"
     ]
    },
    {
     "name": "stdout",
     "output_type": "stream",
     "text": [
      "Tetanus incidence rate for Guatemala was downloaded succesfully!\n",
      "✅ Correct country code for Haiti was assigned.\n"
     ]
    },
    {
     "name": "stderr",
     "output_type": "stream",
     "text": [
      "Processing Countries:  71%|███████▏  | 25/35 [00:23<00:09,  1.04it/s]"
     ]
    },
    {
     "name": "stdout",
     "output_type": "stream",
     "text": [
      "Tetanus incidence rate for Haiti was downloaded succesfully!\n",
      "✅ Correct country code for Honduras was assigned.\n"
     ]
    },
    {
     "name": "stderr",
     "output_type": "stream",
     "text": [
      "Processing Countries:  74%|███████▍  | 26/35 [00:24<00:08,  1.04it/s]"
     ]
    },
    {
     "name": "stdout",
     "output_type": "stream",
     "text": [
      "Tetanus incidence rate for Honduras was downloaded succesfully!\n",
      "✅ Correct country code for Jamaica was assigned.\n"
     ]
    },
    {
     "name": "stderr",
     "output_type": "stream",
     "text": [
      "Processing Countries:  77%|███████▋  | 27/35 [00:25<00:07,  1.05it/s]"
     ]
    },
    {
     "name": "stdout",
     "output_type": "stream",
     "text": [
      "Tetanus incidence rate for Jamaica was downloaded succesfully!\n",
      "✅ Correct country code for Mexico was assigned.\n"
     ]
    },
    {
     "name": "stderr",
     "output_type": "stream",
     "text": [
      "Processing Countries:  80%|████████  | 28/35 [00:26<00:06,  1.04it/s]"
     ]
    },
    {
     "name": "stdout",
     "output_type": "stream",
     "text": [
      "Tetanus incidence rate for Mexico was downloaded succesfully!\n",
      "✅ Correct country code for Nicaragua was assigned.\n"
     ]
    },
    {
     "name": "stderr",
     "output_type": "stream",
     "text": [
      "Processing Countries:  83%|████████▎ | 29/35 [00:27<00:06,  1.01s/it]"
     ]
    },
    {
     "name": "stdout",
     "output_type": "stream",
     "text": [
      "Tetanus incidence rate for Nicaragua was downloaded succesfully!\n",
      "✅ Correct country code for Panama was assigned.\n"
     ]
    },
    {
     "name": "stderr",
     "output_type": "stream",
     "text": [
      "Processing Countries:  86%|████████▌ | 30/35 [00:29<00:05,  1.06s/it]"
     ]
    },
    {
     "name": "stdout",
     "output_type": "stream",
     "text": [
      "Tetanus incidence rate for Panama was downloaded succesfully!\n",
      "✅ Correct country code for Saint Kitts and Nevis was assigned.\n"
     ]
    },
    {
     "name": "stderr",
     "output_type": "stream",
     "text": [
      "Processing Countries:  89%|████████▊ | 31/35 [00:30<00:04,  1.02s/it]"
     ]
    },
    {
     "name": "stdout",
     "output_type": "stream",
     "text": [
      "Tetanus incidence rate for Saint Kitts and Nevis was downloaded succesfully!\n",
      "✅ Correct country code for Saint Lucia was assigned.\n"
     ]
    },
    {
     "name": "stderr",
     "output_type": "stream",
     "text": [
      "Processing Countries:  91%|█████████▏| 32/35 [00:31<00:03,  1.00s/it]"
     ]
    },
    {
     "name": "stdout",
     "output_type": "stream",
     "text": [
      "Tetanus incidence rate for Saint Lucia was downloaded succesfully!\n",
      "✅ Correct country code for Saint Vincent and the Grenadines was assigned.\n"
     ]
    },
    {
     "name": "stderr",
     "output_type": "stream",
     "text": [
      "Processing Countries:  94%|█████████▍| 33/35 [00:31<00:01,  1.01it/s]"
     ]
    },
    {
     "name": "stdout",
     "output_type": "stream",
     "text": [
      "Tetanus incidence rate for Saint Vincent and the Grenadines was downloaded succesfully!\n",
      "✅ Correct country code for Trinidad and Tobago was assigned.\n"
     ]
    },
    {
     "name": "stderr",
     "output_type": "stream",
     "text": [
      "Processing Countries:  97%|█████████▋| 34/35 [00:32<00:00,  1.02it/s]"
     ]
    },
    {
     "name": "stdout",
     "output_type": "stream",
     "text": [
      "Tetanus incidence rate for Trinidad and Tobago was downloaded succesfully!\n",
      "✅ Correct country code for United States of America was assigned.\n"
     ]
    },
    {
     "name": "stderr",
     "output_type": "stream",
     "text": [
      "Processing Countries: 100%|██████████| 35/35 [00:33<00:00,  1.03it/s]"
     ]
    },
    {
     "name": "stdout",
     "output_type": "stream",
     "text": [
      "Tetanus incidence rate for United States of America was downloaded succesfully!\n"
     ]
    },
    {
     "name": "stderr",
     "output_type": "stream",
     "text": [
      "\n"
     ]
    }
   ],
   "source": [
    "# Tetanus incidence database\n",
    "for i in tqdm(range(len(american_countries)), desc=\"Processing Countries\", leave=True, position=0):  \n",
    "    #Let's set the variables we're going to use\n",
    "    name = american_countries[i]  \n",
    "    country_code = american_country_codes.get(name)\n",
    "    output_csv = f'/Users/Kenji-to/Documents/GitHub/Module Challenges/Project 3/Databases_RAW/Tetanus_Incidence/Tetanus_Incidence_{name}.csv'\n",
    "    \n",
    "    if country_code is None:\n",
    "        tqdm.write(f'Country code for {name} was not found')\n",
    "        continue\n",
    "\n",
    "    if country_code in american_country_codes.values():\n",
    "        tqdm.write(f'✅ Correct country code for {name} was assigned.')\n",
    "    else:\n",
    "        tqdm.write(f'❌ Country code for {name} is incorrect')\n",
    "\n",
    "    #Query we're going to use.\n",
    "    retrieve_query = f\"{tetanus_incidence_url}.csv?filter=COUNTRY:{country_code}\"\n",
    "\n",
    "    try:\n",
    "        response = requests.get(retrieve_query, stream = True)\n",
    "        response.raise_for_status()  \n",
    "\n",
    "        with open(f'/Users/Kenji-to/Documents/GitHub/Module Challenges/Project 3/Databases_RAW/Tetanus_Incidence/Tetanus_Incidence_{name}.csv', 'wb') as file:\n",
    "            for chunk in response.iter_content(chunk_size=8192): \n",
    "                if chunk:\n",
    "                    file.write(chunk)\n",
    "        print(f'Tetanus incidence rate for {name} was downloaded succesfully!')\n",
    "    \n",
    "    except requests.exceptions.RequestException as e:\n",
    "        print(f'An error occurred. Check the log: {e}')"
   ]
  },
  {
   "cell_type": "code",
   "execution_count": 43,
   "metadata": {},
   "outputs": [
    {
     "name": "stderr",
     "output_type": "stream",
     "text": [
      "Processing Countries:   0%|          | 0/35 [00:00<?, ?it/s]"
     ]
    },
    {
     "name": "stdout",
     "output_type": "stream",
     "text": [
      "✅ Correct country code for Argentina was assigned.\n"
     ]
    },
    {
     "name": "stderr",
     "output_type": "stream",
     "text": [
      "Processing Countries:   3%|▎         | 1/35 [00:00<00:32,  1.05it/s]"
     ]
    },
    {
     "name": "stdout",
     "output_type": "stream",
     "text": [
      "Diphtheria incidence rate for Argentina was downloaded succesfully!\n",
      "✅ Correct country code for Bolivia was assigned.\n"
     ]
    },
    {
     "name": "stderr",
     "output_type": "stream",
     "text": [
      "Processing Countries:   6%|▌         | 2/35 [00:01<00:31,  1.05it/s]"
     ]
    },
    {
     "name": "stdout",
     "output_type": "stream",
     "text": [
      "Diphtheria incidence rate for Bolivia was downloaded succesfully!\n",
      "✅ Correct country code for Brazil was assigned.\n"
     ]
    },
    {
     "name": "stderr",
     "output_type": "stream",
     "text": [
      "Processing Countries:   9%|▊         | 3/35 [00:02<00:30,  1.04it/s]"
     ]
    },
    {
     "name": "stdout",
     "output_type": "stream",
     "text": [
      "Diphtheria incidence rate for Brazil was downloaded succesfully!\n",
      "✅ Correct country code for Chile was assigned.\n"
     ]
    },
    {
     "name": "stderr",
     "output_type": "stream",
     "text": [
      "Processing Countries:  11%|█▏        | 4/35 [00:03<00:29,  1.04it/s]"
     ]
    },
    {
     "name": "stdout",
     "output_type": "stream",
     "text": [
      "Diphtheria incidence rate for Chile was downloaded succesfully!\n",
      "✅ Correct country code for Colombia was assigned.\n"
     ]
    },
    {
     "name": "stderr",
     "output_type": "stream",
     "text": [
      "Processing Countries:  14%|█▍        | 5/35 [00:04<00:28,  1.05it/s]"
     ]
    },
    {
     "name": "stdout",
     "output_type": "stream",
     "text": [
      "Diphtheria incidence rate for Colombia was downloaded succesfully!\n",
      "✅ Correct country code for Ecuador was assigned.\n"
     ]
    },
    {
     "name": "stderr",
     "output_type": "stream",
     "text": [
      "Processing Countries:  17%|█▋        | 6/35 [00:05<00:27,  1.05it/s]"
     ]
    },
    {
     "name": "stdout",
     "output_type": "stream",
     "text": [
      "Diphtheria incidence rate for Ecuador was downloaded succesfully!\n",
      "✅ Correct country code for Guyana was assigned.\n"
     ]
    },
    {
     "name": "stderr",
     "output_type": "stream",
     "text": [
      "Processing Countries:  20%|██        | 7/35 [00:07<00:37,  1.35s/it]"
     ]
    },
    {
     "name": "stdout",
     "output_type": "stream",
     "text": [
      "Diphtheria incidence rate for Guyana was downloaded succesfully!\n",
      "✅ Correct country code for Paraguay was assigned.\n"
     ]
    },
    {
     "name": "stderr",
     "output_type": "stream",
     "text": [
      "Processing Countries:  23%|██▎       | 8/35 [00:09<00:34,  1.29s/it]"
     ]
    },
    {
     "name": "stdout",
     "output_type": "stream",
     "text": [
      "Diphtheria incidence rate for Paraguay was downloaded succesfully!\n",
      "✅ Correct country code for Peru was assigned.\n"
     ]
    },
    {
     "name": "stderr",
     "output_type": "stream",
     "text": [
      "Processing Countries:  26%|██▌       | 9/35 [00:10<00:32,  1.24s/it]"
     ]
    },
    {
     "name": "stdout",
     "output_type": "stream",
     "text": [
      "Diphtheria incidence rate for Peru was downloaded succesfully!\n",
      "✅ Correct country code for Suriname was assigned.\n"
     ]
    },
    {
     "name": "stderr",
     "output_type": "stream",
     "text": [
      "Processing Countries:  29%|██▊       | 10/35 [00:11<00:30,  1.20s/it]"
     ]
    },
    {
     "name": "stdout",
     "output_type": "stream",
     "text": [
      "Diphtheria incidence rate for Suriname was downloaded succesfully!\n",
      "✅ Correct country code for Uruguay was assigned.\n"
     ]
    },
    {
     "name": "stderr",
     "output_type": "stream",
     "text": [
      "Processing Countries:  31%|███▏      | 11/35 [00:12<00:28,  1.18s/it]"
     ]
    },
    {
     "name": "stdout",
     "output_type": "stream",
     "text": [
      "Diphtheria incidence rate for Uruguay was downloaded succesfully!\n",
      "✅ Correct country code for Venezuela was assigned.\n"
     ]
    },
    {
     "name": "stderr",
     "output_type": "stream",
     "text": [
      "Processing Countries:  34%|███▍      | 12/35 [00:13<00:26,  1.16s/it]"
     ]
    },
    {
     "name": "stdout",
     "output_type": "stream",
     "text": [
      "Diphtheria incidence rate for Venezuela was downloaded succesfully!\n",
      "✅ Correct country code for Antigua and Barbuda was assigned.\n"
     ]
    },
    {
     "name": "stderr",
     "output_type": "stream",
     "text": [
      "Processing Countries:  37%|███▋      | 13/35 [00:14<00:24,  1.10s/it]"
     ]
    },
    {
     "name": "stdout",
     "output_type": "stream",
     "text": [
      "Diphtheria incidence rate for Antigua and Barbuda was downloaded succesfully!\n",
      "✅ Correct country code for Bahamas was assigned.\n"
     ]
    },
    {
     "name": "stderr",
     "output_type": "stream",
     "text": [
      "Processing Countries:  40%|████      | 14/35 [00:15<00:22,  1.06s/it]"
     ]
    },
    {
     "name": "stdout",
     "output_type": "stream",
     "text": [
      "Diphtheria incidence rate for Bahamas was downloaded succesfully!\n",
      "✅ Correct country code for Barbados was assigned.\n"
     ]
    },
    {
     "name": "stderr",
     "output_type": "stream",
     "text": [
      "Processing Countries:  43%|████▎     | 15/35 [00:16<00:20,  1.03s/it]"
     ]
    },
    {
     "name": "stdout",
     "output_type": "stream",
     "text": [
      "Diphtheria incidence rate for Barbados was downloaded succesfully!\n",
      "✅ Correct country code for Belize was assigned.\n"
     ]
    },
    {
     "name": "stderr",
     "output_type": "stream",
     "text": [
      "Processing Countries:  46%|████▌     | 16/35 [00:17<00:19,  1.01s/it]"
     ]
    },
    {
     "name": "stdout",
     "output_type": "stream",
     "text": [
      "Diphtheria incidence rate for Belize was downloaded succesfully!\n",
      "✅ Correct country code for Canada was assigned.\n"
     ]
    },
    {
     "name": "stderr",
     "output_type": "stream",
     "text": [
      "Processing Countries:  49%|████▊     | 17/35 [00:18<00:17,  1.01it/s]"
     ]
    },
    {
     "name": "stdout",
     "output_type": "stream",
     "text": [
      "Diphtheria incidence rate for Canada was downloaded succesfully!\n",
      "✅ Correct country code for Costa Rica was assigned.\n"
     ]
    },
    {
     "name": "stderr",
     "output_type": "stream",
     "text": [
      "Processing Countries:  51%|█████▏    | 18/35 [00:19<00:16,  1.02it/s]"
     ]
    },
    {
     "name": "stdout",
     "output_type": "stream",
     "text": [
      "Diphtheria incidence rate for Costa Rica was downloaded succesfully!\n",
      "✅ Correct country code for Cuba was assigned.\n"
     ]
    },
    {
     "name": "stderr",
     "output_type": "stream",
     "text": [
      "Processing Countries:  54%|█████▍    | 19/35 [00:20<00:15,  1.03it/s]"
     ]
    },
    {
     "name": "stdout",
     "output_type": "stream",
     "text": [
      "Diphtheria incidence rate for Cuba was downloaded succesfully!\n",
      "✅ Correct country code for Dominica was assigned.\n"
     ]
    },
    {
     "name": "stderr",
     "output_type": "stream",
     "text": [
      "Processing Countries:  57%|█████▋    | 20/35 [00:21<00:14,  1.04it/s]"
     ]
    },
    {
     "name": "stdout",
     "output_type": "stream",
     "text": [
      "Diphtheria incidence rate for Dominica was downloaded succesfully!\n",
      "✅ Correct country code for Dominican Republic was assigned.\n"
     ]
    },
    {
     "name": "stderr",
     "output_type": "stream",
     "text": [
      "Processing Countries:  60%|██████    | 21/35 [00:22<00:13,  1.03it/s]"
     ]
    },
    {
     "name": "stdout",
     "output_type": "stream",
     "text": [
      "Diphtheria incidence rate for Dominican Republic was downloaded succesfully!\n",
      "✅ Correct country code for El Salvador was assigned.\n"
     ]
    },
    {
     "name": "stderr",
     "output_type": "stream",
     "text": [
      "Processing Countries:  63%|██████▎   | 22/35 [00:23<00:12,  1.04it/s]"
     ]
    },
    {
     "name": "stdout",
     "output_type": "stream",
     "text": [
      "Diphtheria incidence rate for El Salvador was downloaded succesfully!\n",
      "✅ Correct country code for Grenada was assigned.\n"
     ]
    },
    {
     "name": "stderr",
     "output_type": "stream",
     "text": [
      "Processing Countries:  66%|██████▌   | 23/35 [00:24<00:11,  1.04it/s]"
     ]
    },
    {
     "name": "stdout",
     "output_type": "stream",
     "text": [
      "Diphtheria incidence rate for Grenada was downloaded succesfully!\n",
      "✅ Correct country code for Guatemala was assigned.\n"
     ]
    },
    {
     "name": "stderr",
     "output_type": "stream",
     "text": [
      "Processing Countries:  69%|██████▊   | 24/35 [00:25<00:10,  1.04it/s]"
     ]
    },
    {
     "name": "stdout",
     "output_type": "stream",
     "text": [
      "Diphtheria incidence rate for Guatemala was downloaded succesfully!\n",
      "✅ Correct country code for Haiti was assigned.\n"
     ]
    },
    {
     "name": "stderr",
     "output_type": "stream",
     "text": [
      "Processing Countries:  71%|███████▏  | 25/35 [00:26<00:09,  1.04it/s]"
     ]
    },
    {
     "name": "stdout",
     "output_type": "stream",
     "text": [
      "Diphtheria incidence rate for Haiti was downloaded succesfully!\n",
      "✅ Correct country code for Honduras was assigned.\n"
     ]
    },
    {
     "name": "stderr",
     "output_type": "stream",
     "text": [
      "Processing Countries:  74%|███████▍  | 26/35 [00:26<00:08,  1.04it/s]"
     ]
    },
    {
     "name": "stdout",
     "output_type": "stream",
     "text": [
      "Diphtheria incidence rate for Honduras was downloaded succesfully!\n",
      "✅ Correct country code for Jamaica was assigned.\n"
     ]
    },
    {
     "name": "stderr",
     "output_type": "stream",
     "text": [
      "Processing Countries:  77%|███████▋  | 27/35 [00:27<00:07,  1.04it/s]"
     ]
    },
    {
     "name": "stdout",
     "output_type": "stream",
     "text": [
      "Diphtheria incidence rate for Jamaica was downloaded succesfully!\n",
      "✅ Correct country code for Mexico was assigned.\n"
     ]
    },
    {
     "name": "stderr",
     "output_type": "stream",
     "text": [
      "Processing Countries:  80%|████████  | 28/35 [00:28<00:06,  1.03it/s]"
     ]
    },
    {
     "name": "stdout",
     "output_type": "stream",
     "text": [
      "Diphtheria incidence rate for Mexico was downloaded succesfully!\n",
      "✅ Correct country code for Nicaragua was assigned.\n"
     ]
    },
    {
     "name": "stderr",
     "output_type": "stream",
     "text": [
      "Processing Countries:  83%|████████▎ | 29/35 [00:29<00:05,  1.03it/s]"
     ]
    },
    {
     "name": "stdout",
     "output_type": "stream",
     "text": [
      "Diphtheria incidence rate for Nicaragua was downloaded succesfully!\n",
      "✅ Correct country code for Panama was assigned.\n"
     ]
    },
    {
     "name": "stderr",
     "output_type": "stream",
     "text": [
      "Processing Countries:  86%|████████▌ | 30/35 [00:30<00:04,  1.04it/s]"
     ]
    },
    {
     "name": "stdout",
     "output_type": "stream",
     "text": [
      "Diphtheria incidence rate for Panama was downloaded succesfully!\n",
      "✅ Correct country code for Saint Kitts and Nevis was assigned.\n"
     ]
    },
    {
     "name": "stderr",
     "output_type": "stream",
     "text": [
      "Processing Countries:  89%|████████▊ | 31/35 [00:31<00:03,  1.04it/s]"
     ]
    },
    {
     "name": "stdout",
     "output_type": "stream",
     "text": [
      "Diphtheria incidence rate for Saint Kitts and Nevis was downloaded succesfully!\n",
      "✅ Correct country code for Saint Lucia was assigned.\n"
     ]
    },
    {
     "name": "stderr",
     "output_type": "stream",
     "text": [
      "Processing Countries:  91%|█████████▏| 32/35 [00:32<00:02,  1.04it/s]"
     ]
    },
    {
     "name": "stdout",
     "output_type": "stream",
     "text": [
      "Diphtheria incidence rate for Saint Lucia was downloaded succesfully!\n",
      "✅ Correct country code for Saint Vincent and the Grenadines was assigned.\n"
     ]
    },
    {
     "name": "stderr",
     "output_type": "stream",
     "text": [
      "Processing Countries:  94%|█████████▍| 33/35 [00:33<00:01,  1.04it/s]"
     ]
    },
    {
     "name": "stdout",
     "output_type": "stream",
     "text": [
      "Diphtheria incidence rate for Saint Vincent and the Grenadines was downloaded succesfully!\n",
      "✅ Correct country code for Trinidad and Tobago was assigned.\n"
     ]
    },
    {
     "name": "stderr",
     "output_type": "stream",
     "text": [
      "Processing Countries:  97%|█████████▋| 34/35 [00:34<00:00,  1.04it/s]"
     ]
    },
    {
     "name": "stdout",
     "output_type": "stream",
     "text": [
      "Diphtheria incidence rate for Trinidad and Tobago was downloaded succesfully!\n",
      "✅ Correct country code for United States of America was assigned.\n"
     ]
    },
    {
     "name": "stderr",
     "output_type": "stream",
     "text": [
      "Processing Countries: 100%|██████████| 35/35 [00:35<00:00,  1.02s/it]"
     ]
    },
    {
     "name": "stdout",
     "output_type": "stream",
     "text": [
      "Diphtheria incidence rate for United States of America was downloaded succesfully!\n"
     ]
    },
    {
     "name": "stderr",
     "output_type": "stream",
     "text": [
      "\n"
     ]
    }
   ],
   "source": [
    "# Diphtheria incidence database\n",
    "for i in tqdm(range(len(american_countries)), desc=\"Processing Countries\", leave=True, position=0):  \n",
    "    #Let's set the variables we're going to use\n",
    "    name = american_countries[i]  \n",
    "    country_code = american_country_codes.get(name)\n",
    "    output_csv = f'/Users/Kenji-to/Documents/GitHub/Module Challenges/Project 3/Databases_RAW/Diphtheria_Incidence/Diphtheria_Incidence_{name}.csv'\n",
    "    \n",
    "    if country_code is None:\n",
    "        tqdm.write(f'Country code for {name} was not found')\n",
    "        continue\n",
    "\n",
    "    if country_code in american_country_codes.values():\n",
    "        tqdm.write(f'✅ Correct country code for {name} was assigned.')\n",
    "    else:\n",
    "        tqdm.write(f'❌ Country code for {name} is incorrect')\n",
    "\n",
    "    #Query we're going to use.\n",
    "    retrieve_query = f\"{diphtheria_incidence_url}.csv?filter=COUNTRY:{country_code}\"\n",
    "\n",
    "    try:\n",
    "        response = requests.get(retrieve_query, stream = True)\n",
    "        response.raise_for_status()  \n",
    "\n",
    "        with open(f'/Users/Kenji-to/Documents/GitHub/Module Challenges/Project 3/Databases_RAW/Diphtheria_Incidence/Diphtheria_Incidence_{name}.csv', 'wb') as file:\n",
    "            for chunk in response.iter_content(chunk_size=8192): \n",
    "                if chunk:\n",
    "                    file.write(chunk)\n",
    "        print(f'Diphtheria incidence rate for {name} was downloaded succesfully!')\n",
    "    \n",
    "    except requests.exceptions.RequestException as e:\n",
    "        print(f'An error occurred. Check the log: {e}')"
   ]
  },
  {
   "cell_type": "code",
   "execution_count": 44,
   "metadata": {},
   "outputs": [
    {
     "name": "stderr",
     "output_type": "stream",
     "text": [
      "Processing Countries:   0%|          | 0/35 [00:00<?, ?it/s]"
     ]
    },
    {
     "name": "stdout",
     "output_type": "stream",
     "text": [
      "✅ Correct country code for Argentina was assigned.\n"
     ]
    },
    {
     "name": "stderr",
     "output_type": "stream",
     "text": [
      "Processing Countries:   3%|▎         | 1/35 [00:00<00:32,  1.05it/s]"
     ]
    },
    {
     "name": "stdout",
     "output_type": "stream",
     "text": [
      "Measles incidence rate for Argentina was downloaded succesfully!\n",
      "✅ Correct country code for Bolivia was assigned.\n"
     ]
    },
    {
     "name": "stderr",
     "output_type": "stream",
     "text": [
      "Processing Countries:   6%|▌         | 2/35 [00:01<00:31,  1.05it/s]"
     ]
    },
    {
     "name": "stdout",
     "output_type": "stream",
     "text": [
      "Measles incidence rate for Bolivia was downloaded succesfully!\n",
      "✅ Correct country code for Brazil was assigned.\n"
     ]
    },
    {
     "name": "stderr",
     "output_type": "stream",
     "text": [
      "Processing Countries:   9%|▊         | 3/35 [00:03<00:33,  1.03s/it]"
     ]
    },
    {
     "name": "stdout",
     "output_type": "stream",
     "text": [
      "Measles incidence rate for Brazil was downloaded succesfully!\n",
      "✅ Correct country code for Chile was assigned.\n"
     ]
    },
    {
     "name": "stderr",
     "output_type": "stream",
     "text": [
      "Processing Countries:  11%|█▏        | 4/35 [00:04<00:33,  1.07s/it]"
     ]
    },
    {
     "name": "stdout",
     "output_type": "stream",
     "text": [
      "Measles incidence rate for Chile was downloaded succesfully!\n",
      "✅ Correct country code for Colombia was assigned.\n"
     ]
    },
    {
     "name": "stderr",
     "output_type": "stream",
     "text": [
      "Processing Countries:  14%|█▍        | 5/35 [00:05<00:32,  1.10s/it]"
     ]
    },
    {
     "name": "stdout",
     "output_type": "stream",
     "text": [
      "Measles incidence rate for Colombia was downloaded succesfully!\n",
      "✅ Correct country code for Ecuador was assigned.\n"
     ]
    },
    {
     "name": "stderr",
     "output_type": "stream",
     "text": [
      "Processing Countries:  17%|█▋        | 6/35 [00:06<00:32,  1.11s/it]"
     ]
    },
    {
     "name": "stdout",
     "output_type": "stream",
     "text": [
      "Measles incidence rate for Ecuador was downloaded succesfully!\n",
      "✅ Correct country code for Guyana was assigned.\n"
     ]
    },
    {
     "name": "stderr",
     "output_type": "stream",
     "text": [
      "Processing Countries:  20%|██        | 7/35 [00:07<00:29,  1.07s/it]"
     ]
    },
    {
     "name": "stdout",
     "output_type": "stream",
     "text": [
      "Measles incidence rate for Guyana was downloaded succesfully!\n",
      "✅ Correct country code for Paraguay was assigned.\n"
     ]
    },
    {
     "name": "stderr",
     "output_type": "stream",
     "text": [
      "Processing Countries:  23%|██▎       | 8/35 [00:08<00:27,  1.03s/it]"
     ]
    },
    {
     "name": "stdout",
     "output_type": "stream",
     "text": [
      "Measles incidence rate for Paraguay was downloaded succesfully!\n",
      "✅ Correct country code for Peru was assigned.\n"
     ]
    },
    {
     "name": "stderr",
     "output_type": "stream",
     "text": [
      "Processing Countries:  26%|██▌       | 9/35 [00:09<00:29,  1.13s/it]"
     ]
    },
    {
     "name": "stdout",
     "output_type": "stream",
     "text": [
      "Measles incidence rate for Peru was downloaded succesfully!\n",
      "✅ Correct country code for Suriname was assigned.\n"
     ]
    },
    {
     "name": "stderr",
     "output_type": "stream",
     "text": [
      "Processing Countries:  29%|██▊       | 10/35 [00:10<00:26,  1.07s/it]"
     ]
    },
    {
     "name": "stdout",
     "output_type": "stream",
     "text": [
      "Measles incidence rate for Suriname was downloaded succesfully!\n",
      "✅ Correct country code for Uruguay was assigned.\n"
     ]
    },
    {
     "name": "stderr",
     "output_type": "stream",
     "text": [
      "Processing Countries:  31%|███▏      | 11/35 [00:11<00:24,  1.04s/it]"
     ]
    },
    {
     "name": "stdout",
     "output_type": "stream",
     "text": [
      "Measles incidence rate for Uruguay was downloaded succesfully!\n",
      "✅ Correct country code for Venezuela was assigned.\n"
     ]
    },
    {
     "name": "stderr",
     "output_type": "stream",
     "text": [
      "Processing Countries:  34%|███▍      | 12/35 [00:12<00:23,  1.01s/it]"
     ]
    },
    {
     "name": "stdout",
     "output_type": "stream",
     "text": [
      "Measles incidence rate for Venezuela was downloaded succesfully!\n",
      "✅ Correct country code for Antigua and Barbuda was assigned.\n"
     ]
    },
    {
     "name": "stderr",
     "output_type": "stream",
     "text": [
      "Processing Countries:  37%|███▋      | 13/35 [00:13<00:21,  1.01it/s]"
     ]
    },
    {
     "name": "stdout",
     "output_type": "stream",
     "text": [
      "Measles incidence rate for Antigua and Barbuda was downloaded succesfully!\n",
      "✅ Correct country code for Bahamas was assigned.\n"
     ]
    },
    {
     "name": "stderr",
     "output_type": "stream",
     "text": [
      "Processing Countries:  40%|████      | 14/35 [00:14<00:20,  1.02it/s]"
     ]
    },
    {
     "name": "stdout",
     "output_type": "stream",
     "text": [
      "Measles incidence rate for Bahamas was downloaded succesfully!\n",
      "✅ Correct country code for Barbados was assigned.\n"
     ]
    },
    {
     "name": "stderr",
     "output_type": "stream",
     "text": [
      "Processing Countries:  43%|████▎     | 15/35 [00:15<00:19,  1.03it/s]"
     ]
    },
    {
     "name": "stdout",
     "output_type": "stream",
     "text": [
      "Measles incidence rate for Barbados was downloaded succesfully!\n",
      "✅ Correct country code for Belize was assigned.\n"
     ]
    },
    {
     "name": "stderr",
     "output_type": "stream",
     "text": [
      "Processing Countries:  46%|████▌     | 16/35 [00:16<00:18,  1.03it/s]"
     ]
    },
    {
     "name": "stdout",
     "output_type": "stream",
     "text": [
      "Measles incidence rate for Belize was downloaded succesfully!\n",
      "✅ Correct country code for Canada was assigned.\n"
     ]
    },
    {
     "name": "stderr",
     "output_type": "stream",
     "text": [
      "Processing Countries:  49%|████▊     | 17/35 [00:17<00:17,  1.03it/s]"
     ]
    },
    {
     "name": "stdout",
     "output_type": "stream",
     "text": [
      "Measles incidence rate for Canada was downloaded succesfully!\n",
      "✅ Correct country code for Costa Rica was assigned.\n"
     ]
    },
    {
     "name": "stderr",
     "output_type": "stream",
     "text": [
      "Processing Countries:  51%|█████▏    | 18/35 [00:18<00:17,  1.02s/it]"
     ]
    },
    {
     "name": "stdout",
     "output_type": "stream",
     "text": [
      "Measles incidence rate for Costa Rica was downloaded succesfully!\n",
      "✅ Correct country code for Cuba was assigned.\n"
     ]
    },
    {
     "name": "stderr",
     "output_type": "stream",
     "text": [
      "Processing Countries:  54%|█████▍    | 19/35 [00:19<00:16,  1.06s/it]"
     ]
    },
    {
     "name": "stdout",
     "output_type": "stream",
     "text": [
      "Measles incidence rate for Cuba was downloaded succesfully!\n",
      "✅ Correct country code for Dominica was assigned.\n"
     ]
    },
    {
     "name": "stderr",
     "output_type": "stream",
     "text": [
      "Processing Countries:  57%|█████▋    | 20/35 [00:20<00:15,  1.02s/it]"
     ]
    },
    {
     "name": "stdout",
     "output_type": "stream",
     "text": [
      "Measles incidence rate for Dominica was downloaded succesfully!\n",
      "✅ Correct country code for Dominican Republic was assigned.\n"
     ]
    },
    {
     "name": "stderr",
     "output_type": "stream",
     "text": [
      "Processing Countries:  60%|██████    | 21/35 [00:21<00:14,  1.00s/it]"
     ]
    },
    {
     "name": "stdout",
     "output_type": "stream",
     "text": [
      "Measles incidence rate for Dominican Republic was downloaded succesfully!\n",
      "✅ Correct country code for El Salvador was assigned.\n"
     ]
    },
    {
     "name": "stderr",
     "output_type": "stream",
     "text": [
      "Processing Countries:  63%|██████▎   | 22/35 [00:22<00:12,  1.01it/s]"
     ]
    },
    {
     "name": "stdout",
     "output_type": "stream",
     "text": [
      "Measles incidence rate for El Salvador was downloaded succesfully!\n",
      "✅ Correct country code for Grenada was assigned.\n"
     ]
    },
    {
     "name": "stderr",
     "output_type": "stream",
     "text": [
      "Processing Countries:  66%|██████▌   | 23/35 [00:23<00:11,  1.02it/s]"
     ]
    },
    {
     "name": "stdout",
     "output_type": "stream",
     "text": [
      "Measles incidence rate for Grenada was downloaded succesfully!\n",
      "✅ Correct country code for Guatemala was assigned.\n"
     ]
    },
    {
     "name": "stderr",
     "output_type": "stream",
     "text": [
      "Processing Countries:  69%|██████▊   | 24/35 [00:24<00:10,  1.03it/s]"
     ]
    },
    {
     "name": "stdout",
     "output_type": "stream",
     "text": [
      "Measles incidence rate for Guatemala was downloaded succesfully!\n",
      "✅ Correct country code for Haiti was assigned.\n"
     ]
    },
    {
     "name": "stderr",
     "output_type": "stream",
     "text": [
      "Processing Countries:  71%|███████▏  | 25/35 [00:25<00:09,  1.03it/s]"
     ]
    },
    {
     "name": "stdout",
     "output_type": "stream",
     "text": [
      "Measles incidence rate for Haiti was downloaded succesfully!\n",
      "✅ Correct country code for Honduras was assigned.\n"
     ]
    },
    {
     "name": "stderr",
     "output_type": "stream",
     "text": [
      "Processing Countries:  74%|███████▍  | 26/35 [00:26<00:09,  1.02s/it]"
     ]
    },
    {
     "name": "stdout",
     "output_type": "stream",
     "text": [
      "Measles incidence rate for Honduras was downloaded succesfully!\n",
      "✅ Correct country code for Jamaica was assigned.\n"
     ]
    },
    {
     "name": "stderr",
     "output_type": "stream",
     "text": [
      "Processing Countries:  77%|███████▋  | 27/35 [00:27<00:08,  1.00s/it]"
     ]
    },
    {
     "name": "stdout",
     "output_type": "stream",
     "text": [
      "Measles incidence rate for Jamaica was downloaded succesfully!\n",
      "✅ Correct country code for Mexico was assigned.\n"
     ]
    },
    {
     "name": "stderr",
     "output_type": "stream",
     "text": [
      "Processing Countries:  80%|████████  | 28/35 [00:28<00:06,  1.01it/s]"
     ]
    },
    {
     "name": "stdout",
     "output_type": "stream",
     "text": [
      "Measles incidence rate for Mexico was downloaded succesfully!\n",
      "✅ Correct country code for Nicaragua was assigned.\n"
     ]
    },
    {
     "name": "stderr",
     "output_type": "stream",
     "text": [
      "Processing Countries:  83%|████████▎ | 29/35 [00:29<00:06,  1.04s/it]"
     ]
    },
    {
     "name": "stdout",
     "output_type": "stream",
     "text": [
      "Measles incidence rate for Nicaragua was downloaded succesfully!\n",
      "✅ Correct country code for Panama was assigned.\n"
     ]
    },
    {
     "name": "stderr",
     "output_type": "stream",
     "text": [
      "Processing Countries:  86%|████████▌ | 30/35 [00:30<00:05,  1.07s/it]"
     ]
    },
    {
     "name": "stdout",
     "output_type": "stream",
     "text": [
      "Measles incidence rate for Panama was downloaded succesfully!\n",
      "✅ Correct country code for Saint Kitts and Nevis was assigned.\n"
     ]
    },
    {
     "name": "stderr",
     "output_type": "stream",
     "text": [
      "Processing Countries:  89%|████████▊ | 31/35 [00:31<00:04,  1.04s/it]"
     ]
    },
    {
     "name": "stdout",
     "output_type": "stream",
     "text": [
      "Measles incidence rate for Saint Kitts and Nevis was downloaded succesfully!\n",
      "✅ Correct country code for Saint Lucia was assigned.\n"
     ]
    },
    {
     "name": "stderr",
     "output_type": "stream",
     "text": [
      "Processing Countries:  91%|█████████▏| 32/35 [00:32<00:03,  1.01s/it]"
     ]
    },
    {
     "name": "stdout",
     "output_type": "stream",
     "text": [
      "Measles incidence rate for Saint Lucia was downloaded succesfully!\n",
      "✅ Correct country code for Saint Vincent and the Grenadines was assigned.\n"
     ]
    },
    {
     "name": "stderr",
     "output_type": "stream",
     "text": [
      "Processing Countries:  94%|█████████▍| 33/35 [00:33<00:02,  1.05s/it]"
     ]
    },
    {
     "name": "stdout",
     "output_type": "stream",
     "text": [
      "Measles incidence rate for Saint Vincent and the Grenadines was downloaded succesfully!\n",
      "✅ Correct country code for Trinidad and Tobago was assigned.\n"
     ]
    },
    {
     "name": "stderr",
     "output_type": "stream",
     "text": [
      "Processing Countries:  97%|█████████▋| 34/35 [00:34<00:01,  1.02s/it]"
     ]
    },
    {
     "name": "stdout",
     "output_type": "stream",
     "text": [
      "Measles incidence rate for Trinidad and Tobago was downloaded succesfully!\n",
      "✅ Correct country code for United States of America was assigned.\n"
     ]
    },
    {
     "name": "stderr",
     "output_type": "stream",
     "text": [
      "Processing Countries: 100%|██████████| 35/35 [00:35<00:00,  1.02s/it]"
     ]
    },
    {
     "name": "stdout",
     "output_type": "stream",
     "text": [
      "Measles incidence rate for United States of America was downloaded succesfully!\n"
     ]
    },
    {
     "name": "stderr",
     "output_type": "stream",
     "text": [
      "\n"
     ]
    }
   ],
   "source": [
    "# Measles incidence database\n",
    "for i in tqdm(range(len(american_countries)), desc=\"Processing Countries\", leave=True, position=0):  \n",
    "    #Let's set the variables we're going to use\n",
    "    name = american_countries[i]  \n",
    "    country_code = american_country_codes.get(name)\n",
    "    output_csv = f'/Users/Kenji-to/Documents/GitHub/Module Challenges/Project 3/Databases_RAW/Measles_Incidence/Measles_Incidence{name}.csv'\n",
    "    \n",
    "    if country_code is None:\n",
    "        tqdm.write(f'Country code for {name} was not found')\n",
    "        continue\n",
    "\n",
    "    if country_code in american_country_codes.values():\n",
    "        tqdm.write(f'✅ Correct country code for {name} was assigned.')\n",
    "    else:\n",
    "        tqdm.write(f'❌ Country code for {name} is incorrect')\n",
    "\n",
    "    #Query we're going to use.\n",
    "    retrieve_query = f\"{measles_incidence_url}.csv?filter=COUNTRY:{country_code}\"\n",
    "\n",
    "    try:\n",
    "        response = requests.get(retrieve_query, stream = True)\n",
    "        response.raise_for_status()  \n",
    "\n",
    "        with open(f'/Users/Kenji-to/Documents/GitHub/Module Challenges/Project 3/Databases_RAW/Measles_Incidence/Measles_Incidence{name}.csv', 'wb') as file:\n",
    "            for chunk in response.iter_content(chunk_size=8192): \n",
    "                if chunk:\n",
    "                    file.write(chunk)\n",
    "        print(f'Measles incidence rate for {name} was downloaded succesfully!')\n",
    "    \n",
    "    except requests.exceptions.RequestException as e:\n",
    "        print(f'An error occurred. Check the log: {e}')"
   ]
  },
  {
   "cell_type": "code",
   "execution_count": 45,
   "metadata": {},
   "outputs": [
    {
     "name": "stderr",
     "output_type": "stream",
     "text": [
      "Processing Countries:   0%|          | 0/35 [00:00<?, ?it/s]"
     ]
    },
    {
     "name": "stdout",
     "output_type": "stream",
     "text": [
      "✅ Correct country code for Argentina was assigned.\n"
     ]
    },
    {
     "name": "stderr",
     "output_type": "stream",
     "text": [
      "Processing Countries:   3%|▎         | 1/35 [00:00<00:32,  1.05it/s]"
     ]
    },
    {
     "name": "stdout",
     "output_type": "stream",
     "text": [
      "Child mortality file for Argentina was downloaded succesfully!\n",
      "✅ Correct country code for Bolivia was assigned.\n"
     ]
    },
    {
     "name": "stderr",
     "output_type": "stream",
     "text": [
      "Processing Countries:   6%|▌         | 2/35 [00:01<00:31,  1.04it/s]"
     ]
    },
    {
     "name": "stdout",
     "output_type": "stream",
     "text": [
      "Child mortality file for Bolivia was downloaded succesfully!\n",
      "✅ Correct country code for Brazil was assigned.\n"
     ]
    },
    {
     "name": "stderr",
     "output_type": "stream",
     "text": [
      "Processing Countries:   9%|▊         | 3/35 [00:02<00:30,  1.04it/s]"
     ]
    },
    {
     "name": "stdout",
     "output_type": "stream",
     "text": [
      "Child mortality file for Brazil was downloaded succesfully!\n",
      "✅ Correct country code for Chile was assigned.\n"
     ]
    },
    {
     "name": "stderr",
     "output_type": "stream",
     "text": [
      "Processing Countries:  11%|█▏        | 4/35 [00:03<00:29,  1.05it/s]"
     ]
    },
    {
     "name": "stdout",
     "output_type": "stream",
     "text": [
      "Child mortality file for Chile was downloaded succesfully!\n",
      "✅ Correct country code for Colombia was assigned.\n"
     ]
    },
    {
     "name": "stderr",
     "output_type": "stream",
     "text": [
      "Processing Countries:  14%|█▍        | 5/35 [00:04<00:28,  1.04it/s]"
     ]
    },
    {
     "name": "stdout",
     "output_type": "stream",
     "text": [
      "Child mortality file for Colombia was downloaded succesfully!\n",
      "✅ Correct country code for Ecuador was assigned.\n"
     ]
    },
    {
     "name": "stderr",
     "output_type": "stream",
     "text": [
      "Processing Countries:  17%|█▋        | 6/35 [00:05<00:27,  1.04it/s]"
     ]
    },
    {
     "name": "stdout",
     "output_type": "stream",
     "text": [
      "Child mortality file for Ecuador was downloaded succesfully!\n",
      "✅ Correct country code for Guyana was assigned.\n"
     ]
    },
    {
     "name": "stderr",
     "output_type": "stream",
     "text": [
      "Processing Countries:  20%|██        | 7/35 [00:06<00:26,  1.04it/s]"
     ]
    },
    {
     "name": "stdout",
     "output_type": "stream",
     "text": [
      "Child mortality file for Guyana was downloaded succesfully!\n",
      "✅ Correct country code for Paraguay was assigned.\n"
     ]
    },
    {
     "name": "stderr",
     "output_type": "stream",
     "text": [
      "Processing Countries:  23%|██▎       | 8/35 [00:07<00:25,  1.05it/s]"
     ]
    },
    {
     "name": "stdout",
     "output_type": "stream",
     "text": [
      "Child mortality file for Paraguay was downloaded succesfully!\n",
      "✅ Correct country code for Peru was assigned.\n"
     ]
    },
    {
     "name": "stderr",
     "output_type": "stream",
     "text": [
      "Processing Countries:  26%|██▌       | 9/35 [00:08<00:24,  1.04it/s]"
     ]
    },
    {
     "name": "stdout",
     "output_type": "stream",
     "text": [
      "Child mortality file for Peru was downloaded succesfully!\n",
      "✅ Correct country code for Suriname was assigned.\n"
     ]
    },
    {
     "name": "stderr",
     "output_type": "stream",
     "text": [
      "Processing Countries:  29%|██▊       | 10/35 [00:09<00:23,  1.05it/s]"
     ]
    },
    {
     "name": "stdout",
     "output_type": "stream",
     "text": [
      "Child mortality file for Suriname was downloaded succesfully!\n",
      "✅ Correct country code for Uruguay was assigned.\n"
     ]
    },
    {
     "name": "stderr",
     "output_type": "stream",
     "text": [
      "Processing Countries:  31%|███▏      | 11/35 [00:10<00:22,  1.05it/s]"
     ]
    },
    {
     "name": "stdout",
     "output_type": "stream",
     "text": [
      "Child mortality file for Uruguay was downloaded succesfully!\n",
      "✅ Correct country code for Venezuela was assigned.\n"
     ]
    },
    {
     "name": "stderr",
     "output_type": "stream",
     "text": [
      "Processing Countries:  34%|███▍      | 12/35 [00:12<00:30,  1.33s/it]"
     ]
    },
    {
     "name": "stdout",
     "output_type": "stream",
     "text": [
      "Child mortality file for Venezuela was downloaded succesfully!\n",
      "✅ Correct country code for Antigua and Barbuda was assigned.\n"
     ]
    },
    {
     "name": "stderr",
     "output_type": "stream",
     "text": [
      "Processing Countries:  37%|███▋      | 13/35 [00:13<00:26,  1.22s/it]"
     ]
    },
    {
     "name": "stdout",
     "output_type": "stream",
     "text": [
      "Child mortality file for Antigua and Barbuda was downloaded succesfully!\n",
      "✅ Correct country code for Bahamas was assigned.\n"
     ]
    },
    {
     "name": "stderr",
     "output_type": "stream",
     "text": [
      "Processing Countries:  40%|████      | 14/35 [00:14<00:23,  1.14s/it]"
     ]
    },
    {
     "name": "stdout",
     "output_type": "stream",
     "text": [
      "Child mortality file for Bahamas was downloaded succesfully!\n",
      "✅ Correct country code for Barbados was assigned.\n"
     ]
    },
    {
     "name": "stderr",
     "output_type": "stream",
     "text": [
      "Processing Countries:  43%|████▎     | 15/35 [00:15<00:21,  1.08s/it]"
     ]
    },
    {
     "name": "stdout",
     "output_type": "stream",
     "text": [
      "Child mortality file for Barbados was downloaded succesfully!\n",
      "✅ Correct country code for Belize was assigned.\n"
     ]
    },
    {
     "name": "stderr",
     "output_type": "stream",
     "text": [
      "Processing Countries:  46%|████▌     | 16/35 [00:17<00:26,  1.40s/it]"
     ]
    },
    {
     "name": "stdout",
     "output_type": "stream",
     "text": [
      "Child mortality file for Belize was downloaded succesfully!\n",
      "✅ Correct country code for Canada was assigned.\n"
     ]
    },
    {
     "name": "stderr",
     "output_type": "stream",
     "text": [
      "Processing Countries:  49%|████▊     | 17/35 [00:18<00:22,  1.26s/it]"
     ]
    },
    {
     "name": "stdout",
     "output_type": "stream",
     "text": [
      "Child mortality file for Canada was downloaded succesfully!\n",
      "✅ Correct country code for Costa Rica was assigned.\n"
     ]
    },
    {
     "name": "stderr",
     "output_type": "stream",
     "text": [
      "Processing Countries:  51%|█████▏    | 18/35 [00:19<00:19,  1.17s/it]"
     ]
    },
    {
     "name": "stdout",
     "output_type": "stream",
     "text": [
      "Child mortality file for Costa Rica was downloaded succesfully!\n",
      "✅ Correct country code for Cuba was assigned.\n"
     ]
    },
    {
     "name": "stderr",
     "output_type": "stream",
     "text": [
      "Processing Countries:  54%|█████▍    | 19/35 [00:20<00:17,  1.11s/it]"
     ]
    },
    {
     "name": "stdout",
     "output_type": "stream",
     "text": [
      "Child mortality file for Cuba was downloaded succesfully!\n",
      "✅ Correct country code for Dominica was assigned.\n"
     ]
    },
    {
     "name": "stderr",
     "output_type": "stream",
     "text": [
      "Processing Countries:  57%|█████▋    | 20/35 [00:21<00:15,  1.06s/it]"
     ]
    },
    {
     "name": "stdout",
     "output_type": "stream",
     "text": [
      "Child mortality file for Dominica was downloaded succesfully!\n",
      "✅ Correct country code for Dominican Republic was assigned.\n"
     ]
    },
    {
     "name": "stderr",
     "output_type": "stream",
     "text": [
      "Processing Countries:  60%|██████    | 21/35 [00:22<00:14,  1.05s/it]"
     ]
    },
    {
     "name": "stdout",
     "output_type": "stream",
     "text": [
      "Child mortality file for Dominican Republic was downloaded succesfully!\n",
      "✅ Correct country code for El Salvador was assigned.\n"
     ]
    },
    {
     "name": "stderr",
     "output_type": "stream",
     "text": [
      "Processing Countries:  63%|██████▎   | 22/35 [00:23<00:13,  1.02s/it]"
     ]
    },
    {
     "name": "stdout",
     "output_type": "stream",
     "text": [
      "Child mortality file for El Salvador was downloaded succesfully!\n",
      "✅ Correct country code for Grenada was assigned.\n"
     ]
    },
    {
     "name": "stderr",
     "output_type": "stream",
     "text": [
      "Processing Countries:  66%|██████▌   | 23/35 [00:24<00:12,  1.00s/it]"
     ]
    },
    {
     "name": "stdout",
     "output_type": "stream",
     "text": [
      "Child mortality file for Grenada was downloaded succesfully!\n",
      "✅ Correct country code for Guatemala was assigned.\n"
     ]
    },
    {
     "name": "stderr",
     "output_type": "stream",
     "text": [
      "Processing Countries:  69%|██████▊   | 24/35 [00:25<00:10,  1.01it/s]"
     ]
    },
    {
     "name": "stdout",
     "output_type": "stream",
     "text": [
      "Child mortality file for Guatemala was downloaded succesfully!\n",
      "✅ Correct country code for Haiti was assigned.\n"
     ]
    },
    {
     "name": "stderr",
     "output_type": "stream",
     "text": [
      "Processing Countries:  71%|███████▏  | 25/35 [00:26<00:09,  1.02it/s]"
     ]
    },
    {
     "name": "stdout",
     "output_type": "stream",
     "text": [
      "Child mortality file for Haiti was downloaded succesfully!\n",
      "✅ Correct country code for Honduras was assigned.\n"
     ]
    },
    {
     "name": "stderr",
     "output_type": "stream",
     "text": [
      "Processing Countries:  74%|███████▍  | 26/35 [00:27<00:08,  1.03it/s]"
     ]
    },
    {
     "name": "stdout",
     "output_type": "stream",
     "text": [
      "Child mortality file for Honduras was downloaded succesfully!\n",
      "✅ Correct country code for Jamaica was assigned.\n"
     ]
    },
    {
     "name": "stderr",
     "output_type": "stream",
     "text": [
      "Processing Countries:  77%|███████▋  | 27/35 [00:28<00:07,  1.03it/s]"
     ]
    },
    {
     "name": "stdout",
     "output_type": "stream",
     "text": [
      "Child mortality file for Jamaica was downloaded succesfully!\n",
      "✅ Correct country code for Mexico was assigned.\n"
     ]
    },
    {
     "name": "stderr",
     "output_type": "stream",
     "text": [
      "Processing Countries:  80%|████████  | 28/35 [00:29<00:06,  1.04it/s]"
     ]
    },
    {
     "name": "stdout",
     "output_type": "stream",
     "text": [
      "Child mortality file for Mexico was downloaded succesfully!\n",
      "✅ Correct country code for Nicaragua was assigned.\n"
     ]
    },
    {
     "name": "stderr",
     "output_type": "stream",
     "text": [
      "Processing Countries:  83%|████████▎ | 29/35 [00:30<00:05,  1.05it/s]"
     ]
    },
    {
     "name": "stdout",
     "output_type": "stream",
     "text": [
      "Child mortality file for Nicaragua was downloaded succesfully!\n",
      "✅ Correct country code for Panama was assigned.\n"
     ]
    },
    {
     "name": "stderr",
     "output_type": "stream",
     "text": [
      "Processing Countries:  86%|████████▌ | 30/35 [00:31<00:04,  1.05it/s]"
     ]
    },
    {
     "name": "stdout",
     "output_type": "stream",
     "text": [
      "Child mortality file for Panama was downloaded succesfully!\n",
      "✅ Correct country code for Saint Kitts and Nevis was assigned.\n"
     ]
    },
    {
     "name": "stderr",
     "output_type": "stream",
     "text": [
      "Processing Countries:  89%|████████▊ | 31/35 [00:33<00:05,  1.32s/it]"
     ]
    },
    {
     "name": "stdout",
     "output_type": "stream",
     "text": [
      "Child mortality file for Saint Kitts and Nevis was downloaded succesfully!\n",
      "✅ Correct country code for Saint Lucia was assigned.\n"
     ]
    },
    {
     "name": "stderr",
     "output_type": "stream",
     "text": [
      "Processing Countries:  91%|█████████▏| 32/35 [00:34<00:03,  1.22s/it]"
     ]
    },
    {
     "name": "stdout",
     "output_type": "stream",
     "text": [
      "Child mortality file for Saint Lucia was downloaded succesfully!\n",
      "✅ Correct country code for Saint Vincent and the Grenadines was assigned.\n"
     ]
    },
    {
     "name": "stderr",
     "output_type": "stream",
     "text": [
      "Processing Countries:  94%|█████████▍| 33/35 [00:35<00:02,  1.14s/it]"
     ]
    },
    {
     "name": "stdout",
     "output_type": "stream",
     "text": [
      "Child mortality file for Saint Vincent and the Grenadines was downloaded succesfully!\n",
      "✅ Correct country code for Trinidad and Tobago was assigned.\n"
     ]
    },
    {
     "name": "stderr",
     "output_type": "stream",
     "text": [
      "Processing Countries:  97%|█████████▋| 34/35 [00:36<00:01,  1.08s/it]"
     ]
    },
    {
     "name": "stdout",
     "output_type": "stream",
     "text": [
      "Child mortality file for Trinidad and Tobago was downloaded succesfully!\n",
      "✅ Correct country code for United States of America was assigned.\n"
     ]
    },
    {
     "name": "stderr",
     "output_type": "stream",
     "text": [
      "Processing Countries: 100%|██████████| 35/35 [00:37<00:00,  1.06s/it]"
     ]
    },
    {
     "name": "stdout",
     "output_type": "stream",
     "text": [
      "Child mortality file for United States of America was downloaded succesfully!\n"
     ]
    },
    {
     "name": "stderr",
     "output_type": "stream",
     "text": [
      "\n"
     ]
    }
   ],
   "source": [
    "# Mortality rate <5 database\n",
    "for i in tqdm(range(len(american_countries)), desc=\"Processing Countries\", leave=True, position=0):  \n",
    "    #Let's set the variables we're going to use\n",
    "    name = american_countries[i]  \n",
    "    country_code = american_country_codes.get(name)\n",
    "    output_csv = f'/Users/Kenji-to/Documents/GitHub/Module Challenges/Project 3/Databases_RAW/Child_Mortality/Child_Mortality_{name}.csv'\n",
    "    \n",
    "    if country_code is None:\n",
    "        tqdm.write(f'❗❗❗ Country code for {name} was not found❗❗❗')\n",
    "        continue\n",
    "\n",
    "    if country_code in american_country_codes.values():\n",
    "        tqdm.write(f'✅ Correct country code for {name} was assigned.')\n",
    "    else:\n",
    "        tqdm.write(f'❌ Country code for {name} is incorrect❗')\n",
    "\n",
    "    #Query we're going to use.\n",
    "    retrieve_query = f\"{dtp_mortality_url}.csv?filter=COUNTRY:{country_code};SEX:BTSX\"\n",
    "\n",
    "    try:\n",
    "        response = requests.get(retrieve_query, stream = True)\n",
    "        response.raise_for_status()  \n",
    "\n",
    "        with open(f'/Users/Kenji-to/Documents/GitHub/Module Challenges/Project 3/Databases_RAW/Child_Mortality/Child_Mortality_{name}.csv', 'wb') as file:\n",
    "            for chunk in response.iter_content(chunk_size=8192): \n",
    "                if chunk:\n",
    "                    file.write(chunk)\n",
    "        print(f'Child mortality file for {name} was downloaded succesfully!')\n",
    "    \n",
    "    except requests.exceptions.RequestException as e:\n",
    "        print(f'An error occurred. Check the log: {e}')"
   ]
  },
  {
   "cell_type": "code",
   "execution_count": 46,
   "metadata": {},
   "outputs": [
    {
     "name": "stderr",
     "output_type": "stream",
     "text": [
      "Processing Countries:   0%|          | 0/35 [00:00<?, ?it/s]"
     ]
    },
    {
     "name": "stdout",
     "output_type": "stream",
     "text": [
      "✅ Correct country code for Argentina was assigned.\n"
     ]
    },
    {
     "name": "stderr",
     "output_type": "stream",
     "text": [
      "Processing Countries:   3%|▎         | 1/35 [00:00<00:32,  1.03it/s]"
     ]
    },
    {
     "name": "stdout",
     "output_type": "stream",
     "text": [
      "DPT3 File for Argentina was downloaded succesfully!\n",
      "✅ Correct country code for Bolivia was assigned.\n"
     ]
    },
    {
     "name": "stderr",
     "output_type": "stream",
     "text": [
      "Processing Countries:   6%|▌         | 2/35 [00:01<00:31,  1.03it/s]"
     ]
    },
    {
     "name": "stdout",
     "output_type": "stream",
     "text": [
      "DPT3 File for Bolivia was downloaded succesfully!\n",
      "✅ Correct country code for Brazil was assigned.\n"
     ]
    },
    {
     "name": "stderr",
     "output_type": "stream",
     "text": [
      "Processing Countries:   9%|▊         | 3/35 [00:03<00:45,  1.43s/it]"
     ]
    },
    {
     "name": "stdout",
     "output_type": "stream",
     "text": [
      "DPT3 File for Brazil was downloaded succesfully!\n",
      "✅ Correct country code for Chile was assigned.\n"
     ]
    },
    {
     "name": "stderr",
     "output_type": "stream",
     "text": [
      "Processing Countries:  11%|█▏        | 4/35 [00:04<00:38,  1.24s/it]"
     ]
    },
    {
     "name": "stdout",
     "output_type": "stream",
     "text": [
      "DPT3 File for Chile was downloaded succesfully!\n",
      "✅ Correct country code for Colombia was assigned.\n"
     ]
    },
    {
     "name": "stderr",
     "output_type": "stream",
     "text": [
      "Processing Countries:  14%|█▍        | 5/35 [00:06<00:36,  1.20s/it]"
     ]
    },
    {
     "name": "stdout",
     "output_type": "stream",
     "text": [
      "DPT3 File for Colombia was downloaded succesfully!\n",
      "✅ Correct country code for Ecuador was assigned.\n"
     ]
    },
    {
     "name": "stderr",
     "output_type": "stream",
     "text": [
      "Processing Countries:  17%|█▋        | 6/35 [00:07<00:34,  1.18s/it]"
     ]
    },
    {
     "name": "stdout",
     "output_type": "stream",
     "text": [
      "DPT3 File for Ecuador was downloaded succesfully!\n",
      "✅ Correct country code for Guyana was assigned.\n"
     ]
    },
    {
     "name": "stderr",
     "output_type": "stream",
     "text": [
      "Processing Countries:  20%|██        | 7/35 [00:08<00:32,  1.16s/it]"
     ]
    },
    {
     "name": "stdout",
     "output_type": "stream",
     "text": [
      "DPT3 File for Guyana was downloaded succesfully!\n",
      "✅ Correct country code for Paraguay was assigned.\n"
     ]
    },
    {
     "name": "stderr",
     "output_type": "stream",
     "text": [
      "Processing Countries:  23%|██▎       | 8/35 [00:09<00:29,  1.11s/it]"
     ]
    },
    {
     "name": "stdout",
     "output_type": "stream",
     "text": [
      "DPT3 File for Paraguay was downloaded succesfully!\n",
      "✅ Correct country code for Peru was assigned.\n"
     ]
    },
    {
     "name": "stderr",
     "output_type": "stream",
     "text": [
      "Processing Countries:  26%|██▌       | 9/35 [00:10<00:27,  1.06s/it]"
     ]
    },
    {
     "name": "stdout",
     "output_type": "stream",
     "text": [
      "DPT3 File for Peru was downloaded succesfully!\n",
      "✅ Correct country code for Suriname was assigned.\n"
     ]
    },
    {
     "name": "stderr",
     "output_type": "stream",
     "text": [
      "Processing Countries:  29%|██▊       | 10/35 [00:11<00:27,  1.09s/it]"
     ]
    },
    {
     "name": "stdout",
     "output_type": "stream",
     "text": [
      "DPT3 File for Suriname was downloaded succesfully!\n",
      "✅ Correct country code for Uruguay was assigned.\n"
     ]
    },
    {
     "name": "stderr",
     "output_type": "stream",
     "text": [
      "Processing Countries:  31%|███▏      | 11/35 [00:12<00:26,  1.10s/it]"
     ]
    },
    {
     "name": "stdout",
     "output_type": "stream",
     "text": [
      "DPT3 File for Uruguay was downloaded succesfully!\n",
      "✅ Correct country code for Venezuela was assigned.\n"
     ]
    },
    {
     "name": "stderr",
     "output_type": "stream",
     "text": [
      "Processing Countries:  34%|███▍      | 12/35 [00:13<00:24,  1.06s/it]"
     ]
    },
    {
     "name": "stdout",
     "output_type": "stream",
     "text": [
      "DPT3 File for Venezuela was downloaded succesfully!\n",
      "✅ Correct country code for Antigua and Barbuda was assigned.\n"
     ]
    },
    {
     "name": "stderr",
     "output_type": "stream",
     "text": [
      "Processing Countries:  37%|███▋      | 13/35 [00:14<00:22,  1.03s/it]"
     ]
    },
    {
     "name": "stdout",
     "output_type": "stream",
     "text": [
      "DPT3 File for Antigua and Barbuda was downloaded succesfully!\n",
      "✅ Correct country code for Bahamas was assigned.\n"
     ]
    },
    {
     "name": "stderr",
     "output_type": "stream",
     "text": [
      "Processing Countries:  40%|████      | 14/35 [00:15<00:21,  1.01s/it]"
     ]
    },
    {
     "name": "stdout",
     "output_type": "stream",
     "text": [
      "DPT3 File for Bahamas was downloaded succesfully!\n",
      "✅ Correct country code for Barbados was assigned.\n"
     ]
    },
    {
     "name": "stderr",
     "output_type": "stream",
     "text": [
      "Processing Countries:  43%|████▎     | 15/35 [00:16<00:19,  1.01it/s]"
     ]
    },
    {
     "name": "stdout",
     "output_type": "stream",
     "text": [
      "DPT3 File for Barbados was downloaded succesfully!\n",
      "✅ Correct country code for Belize was assigned.\n"
     ]
    },
    {
     "name": "stderr",
     "output_type": "stream",
     "text": [
      "Processing Countries:  46%|████▌     | 16/35 [00:17<00:18,  1.02it/s]"
     ]
    },
    {
     "name": "stdout",
     "output_type": "stream",
     "text": [
      "DPT3 File for Belize was downloaded succesfully!\n",
      "✅ Correct country code for Canada was assigned.\n"
     ]
    },
    {
     "name": "stderr",
     "output_type": "stream",
     "text": [
      "Processing Countries:  49%|████▊     | 17/35 [00:18<00:17,  1.03it/s]"
     ]
    },
    {
     "name": "stdout",
     "output_type": "stream",
     "text": [
      "DPT3 File for Canada was downloaded succesfully!\n",
      "✅ Correct country code for Costa Rica was assigned.\n"
     ]
    },
    {
     "name": "stderr",
     "output_type": "stream",
     "text": [
      "Processing Countries:  51%|█████▏    | 18/35 [00:19<00:16,  1.04it/s]"
     ]
    },
    {
     "name": "stdout",
     "output_type": "stream",
     "text": [
      "DPT3 File for Costa Rica was downloaded succesfully!\n",
      "✅ Correct country code for Cuba was assigned.\n"
     ]
    },
    {
     "name": "stderr",
     "output_type": "stream",
     "text": [
      "Processing Countries:  54%|█████▍    | 19/35 [00:20<00:15,  1.04it/s]"
     ]
    },
    {
     "name": "stdout",
     "output_type": "stream",
     "text": [
      "DPT3 File for Cuba was downloaded succesfully!\n",
      "✅ Correct country code for Dominica was assigned.\n"
     ]
    },
    {
     "name": "stderr",
     "output_type": "stream",
     "text": [
      "Processing Countries:  57%|█████▋    | 20/35 [00:21<00:14,  1.05it/s]"
     ]
    },
    {
     "name": "stdout",
     "output_type": "stream",
     "text": [
      "DPT3 File for Dominica was downloaded succesfully!\n",
      "✅ Correct country code for Dominican Republic was assigned.\n"
     ]
    },
    {
     "name": "stderr",
     "output_type": "stream",
     "text": [
      "Processing Countries:  60%|██████    | 21/35 [00:22<00:13,  1.05it/s]"
     ]
    },
    {
     "name": "stdout",
     "output_type": "stream",
     "text": [
      "DPT3 File for Dominican Republic was downloaded succesfully!\n",
      "✅ Correct country code for El Salvador was assigned.\n"
     ]
    },
    {
     "name": "stderr",
     "output_type": "stream",
     "text": [
      "Processing Countries:  63%|██████▎   | 22/35 [00:22<00:12,  1.04it/s]"
     ]
    },
    {
     "name": "stdout",
     "output_type": "stream",
     "text": [
      "DPT3 File for El Salvador was downloaded succesfully!\n",
      "✅ Correct country code for Grenada was assigned.\n"
     ]
    },
    {
     "name": "stderr",
     "output_type": "stream",
     "text": [
      "Processing Countries:  66%|██████▌   | 23/35 [00:23<00:11,  1.04it/s]"
     ]
    },
    {
     "name": "stdout",
     "output_type": "stream",
     "text": [
      "DPT3 File for Grenada was downloaded succesfully!\n",
      "✅ Correct country code for Guatemala was assigned.\n"
     ]
    },
    {
     "name": "stderr",
     "output_type": "stream",
     "text": [
      "Processing Countries:  69%|██████▊   | 24/35 [00:25<00:11,  1.01s/it]"
     ]
    },
    {
     "name": "stdout",
     "output_type": "stream",
     "text": [
      "DPT3 File for Guatemala was downloaded succesfully!\n",
      "✅ Correct country code for Haiti was assigned.\n"
     ]
    },
    {
     "name": "stderr",
     "output_type": "stream",
     "text": [
      "Processing Countries:  71%|███████▏  | 25/35 [00:26<00:10,  1.05s/it]"
     ]
    },
    {
     "name": "stdout",
     "output_type": "stream",
     "text": [
      "DPT3 File for Haiti was downloaded succesfully!\n",
      "✅ Correct country code for Honduras was assigned.\n"
     ]
    },
    {
     "name": "stderr",
     "output_type": "stream",
     "text": [
      "Processing Countries:  74%|███████▍  | 26/35 [00:27<00:09,  1.02s/it]"
     ]
    },
    {
     "name": "stdout",
     "output_type": "stream",
     "text": [
      "DPT3 File for Honduras was downloaded succesfully!\n",
      "✅ Correct country code for Jamaica was assigned.\n"
     ]
    },
    {
     "name": "stderr",
     "output_type": "stream",
     "text": [
      "Processing Countries:  77%|███████▋  | 27/35 [00:28<00:08,  1.05s/it]"
     ]
    },
    {
     "name": "stdout",
     "output_type": "stream",
     "text": [
      "DPT3 File for Jamaica was downloaded succesfully!\n",
      "✅ Correct country code for Mexico was assigned.\n"
     ]
    },
    {
     "name": "stderr",
     "output_type": "stream",
     "text": [
      "Processing Countries:  80%|████████  | 28/35 [00:29<00:07,  1.02s/it]"
     ]
    },
    {
     "name": "stdout",
     "output_type": "stream",
     "text": [
      "DPT3 File for Mexico was downloaded succesfully!\n",
      "✅ Correct country code for Nicaragua was assigned.\n"
     ]
    },
    {
     "name": "stderr",
     "output_type": "stream",
     "text": [
      "Processing Countries:  83%|████████▎ | 29/35 [00:30<00:06,  1.00s/it]"
     ]
    },
    {
     "name": "stdout",
     "output_type": "stream",
     "text": [
      "DPT3 File for Nicaragua was downloaded succesfully!\n",
      "✅ Correct country code for Panama was assigned.\n"
     ]
    },
    {
     "name": "stderr",
     "output_type": "stream",
     "text": [
      "Processing Countries:  86%|████████▌ | 30/35 [00:31<00:04,  1.01it/s]"
     ]
    },
    {
     "name": "stdout",
     "output_type": "stream",
     "text": [
      "DPT3 File for Panama was downloaded succesfully!\n",
      "✅ Correct country code for Saint Kitts and Nevis was assigned.\n"
     ]
    },
    {
     "name": "stderr",
     "output_type": "stream",
     "text": [
      "Processing Countries:  89%|████████▊ | 31/35 [00:32<00:03,  1.02it/s]"
     ]
    },
    {
     "name": "stdout",
     "output_type": "stream",
     "text": [
      "DPT3 File for Saint Kitts and Nevis was downloaded succesfully!\n",
      "✅ Correct country code for Saint Lucia was assigned.\n"
     ]
    },
    {
     "name": "stderr",
     "output_type": "stream",
     "text": [
      "Processing Countries:  91%|█████████▏| 32/35 [00:33<00:02,  1.03it/s]"
     ]
    },
    {
     "name": "stdout",
     "output_type": "stream",
     "text": [
      "DPT3 File for Saint Lucia was downloaded succesfully!\n",
      "✅ Correct country code for Saint Vincent and the Grenadines was assigned.\n"
     ]
    },
    {
     "name": "stderr",
     "output_type": "stream",
     "text": [
      "Processing Countries:  94%|█████████▍| 33/35 [00:34<00:01,  1.03it/s]"
     ]
    },
    {
     "name": "stdout",
     "output_type": "stream",
     "text": [
      "DPT3 File for Saint Vincent and the Grenadines was downloaded succesfully!\n",
      "✅ Correct country code for Trinidad and Tobago was assigned.\n"
     ]
    },
    {
     "name": "stderr",
     "output_type": "stream",
     "text": [
      "Processing Countries:  97%|█████████▋| 34/35 [00:35<00:00,  1.03it/s]"
     ]
    },
    {
     "name": "stdout",
     "output_type": "stream",
     "text": [
      "DPT3 File for Trinidad and Tobago was downloaded succesfully!\n",
      "✅ Correct country code for United States of America was assigned.\n"
     ]
    },
    {
     "name": "stderr",
     "output_type": "stream",
     "text": [
      "Processing Countries: 100%|██████████| 35/35 [00:35<00:00,  1.03s/it]"
     ]
    },
    {
     "name": "stdout",
     "output_type": "stream",
     "text": [
      "DPT3 File for United States of America was downloaded succesfully!\n"
     ]
    },
    {
     "name": "stderr",
     "output_type": "stream",
     "text": [
      "\n"
     ]
    }
   ],
   "source": [
    "# DTP vaccination rate database\n",
    "for i in tqdm(range(len(american_countries)), desc=\"Processing Countries\", leave=True, position=0):  \n",
    "    #Let's set the variables we're going to use\n",
    "    name = american_countries[i]  \n",
    "    country_code = american_country_codes.get(name)\n",
    "    output_csv = f'/Users/Kenji-to/Documents/GitHub/Module Challenges/Project 3/Databases_RAW/Vaccination_Rate/DTP3_Vacc_Rates_{name}.csv'\n",
    "    \n",
    "    if country_code is None:\n",
    "        tqdm.write(f'❗❗❗ Country code for {name} was not found❗❗❗')\n",
    "        continue\n",
    "\n",
    "    if country_code in american_country_codes.values():\n",
    "        tqdm.write(f'✅ Correct country code for {name} was assigned.')\n",
    "    else:\n",
    "        tqdm.write(f'❌ Country code for {name} is incorrect❗')\n",
    "\n",
    "    #Query we're going to use.\n",
    "    retrieve_query = f\"{full_vacc_rates_url}.csv?filter=COUNTRY:{country_code}\"\n",
    "\n",
    "    try:\n",
    "        response = requests.get(retrieve_query, stream = True)\n",
    "        response.raise_for_status()  \n",
    "\n",
    "        with open(f'/Users/Kenji-to/Documents/GitHub/Module Challenges/Project 3/Databases_RAW/Vaccination_Rate/DTP3_Vacc_Rates_{name}.csv', 'wb') as file:\n",
    "            for chunk in response.iter_content(chunk_size=8192): \n",
    "                if chunk:\n",
    "                    file.write(chunk)\n",
    "        print(f'DPT3 File for {name} was downloaded succesfully!')\n",
    "    \n",
    "    except requests.exceptions.RequestException as e:\n",
    "        print(f'An error occurred. Check the log: {e}')"
   ]
  },
  {
   "cell_type": "code",
   "execution_count": 47,
   "metadata": {},
   "outputs": [
    {
     "name": "stderr",
     "output_type": "stream",
     "text": [
      "Processing Countries:   0%|          | 0/35 [00:00<?, ?it/s]"
     ]
    },
    {
     "name": "stdout",
     "output_type": "stream",
     "text": [
      "✅ Correct country code for Argentina was assigned.\n"
     ]
    },
    {
     "name": "stderr",
     "output_type": "stream",
     "text": [
      "Processing Countries:   3%|▎         | 1/35 [00:00<00:32,  1.03it/s]"
     ]
    },
    {
     "name": "stdout",
     "output_type": "stream",
     "text": [
      "Measles Vacc File for Argentina was downloaded succesfully!\n",
      "✅ Correct country code for Bolivia was assigned.\n"
     ]
    },
    {
     "name": "stderr",
     "output_type": "stream",
     "text": [
      "Processing Countries:   6%|▌         | 2/35 [00:01<00:31,  1.04it/s]"
     ]
    },
    {
     "name": "stdout",
     "output_type": "stream",
     "text": [
      "Measles Vacc File for Bolivia was downloaded succesfully!\n",
      "✅ Correct country code for Brazil was assigned.\n"
     ]
    },
    {
     "name": "stderr",
     "output_type": "stream",
     "text": [
      "Processing Countries:   9%|▊         | 3/35 [00:02<00:30,  1.04it/s]"
     ]
    },
    {
     "name": "stdout",
     "output_type": "stream",
     "text": [
      "Measles Vacc File for Brazil was downloaded succesfully!\n",
      "✅ Correct country code for Chile was assigned.\n"
     ]
    },
    {
     "name": "stderr",
     "output_type": "stream",
     "text": [
      "Processing Countries:  11%|█▏        | 4/35 [00:03<00:29,  1.05it/s]"
     ]
    },
    {
     "name": "stdout",
     "output_type": "stream",
     "text": [
      "Measles Vacc File for Chile was downloaded succesfully!\n",
      "✅ Correct country code for Colombia was assigned.\n"
     ]
    },
    {
     "name": "stderr",
     "output_type": "stream",
     "text": [
      "Processing Countries:  14%|█▍        | 5/35 [00:04<00:28,  1.05it/s]"
     ]
    },
    {
     "name": "stdout",
     "output_type": "stream",
     "text": [
      "Measles Vacc File for Colombia was downloaded succesfully!\n",
      "✅ Correct country code for Ecuador was assigned.\n"
     ]
    },
    {
     "name": "stderr",
     "output_type": "stream",
     "text": [
      "Processing Countries:  17%|█▋        | 6/35 [00:05<00:27,  1.05it/s]"
     ]
    },
    {
     "name": "stdout",
     "output_type": "stream",
     "text": [
      "Measles Vacc File for Ecuador was downloaded succesfully!\n",
      "✅ Correct country code for Guyana was assigned.\n"
     ]
    },
    {
     "name": "stderr",
     "output_type": "stream",
     "text": [
      "Processing Countries:  20%|██        | 7/35 [00:07<00:36,  1.30s/it]"
     ]
    },
    {
     "name": "stdout",
     "output_type": "stream",
     "text": [
      "Measles Vacc File for Guyana was downloaded succesfully!\n",
      "✅ Correct country code for Paraguay was assigned.\n"
     ]
    },
    {
     "name": "stderr",
     "output_type": "stream",
     "text": [
      "Processing Countries:  23%|██▎       | 8/35 [00:08<00:32,  1.19s/it]"
     ]
    },
    {
     "name": "stdout",
     "output_type": "stream",
     "text": [
      "Measles Vacc File for Paraguay was downloaded succesfully!\n",
      "✅ Correct country code for Peru was assigned.\n"
     ]
    },
    {
     "name": "stderr",
     "output_type": "stream",
     "text": [
      "Processing Countries:  26%|██▌       | 9/35 [00:10<00:38,  1.49s/it]"
     ]
    },
    {
     "name": "stdout",
     "output_type": "stream",
     "text": [
      "Measles Vacc File for Peru was downloaded succesfully!\n",
      "✅ Correct country code for Suriname was assigned.\n"
     ]
    },
    {
     "name": "stderr",
     "output_type": "stream",
     "text": [
      "Processing Countries:  29%|██▊       | 10/35 [00:11<00:34,  1.38s/it]"
     ]
    },
    {
     "name": "stdout",
     "output_type": "stream",
     "text": [
      "Measles Vacc File for Suriname was downloaded succesfully!\n",
      "✅ Correct country code for Uruguay was assigned.\n"
     ]
    },
    {
     "name": "stderr",
     "output_type": "stream",
     "text": [
      "Processing Countries:  31%|███▏      | 11/35 [00:14<00:39,  1.63s/it]"
     ]
    },
    {
     "name": "stdout",
     "output_type": "stream",
     "text": [
      "Measles Vacc File for Uruguay was downloaded succesfully!\n",
      "✅ Correct country code for Venezuela was assigned.\n"
     ]
    },
    {
     "name": "stderr",
     "output_type": "stream",
     "text": [
      "Processing Countries:  34%|███▍      | 12/35 [00:15<00:35,  1.56s/it]"
     ]
    },
    {
     "name": "stdout",
     "output_type": "stream",
     "text": [
      "Measles Vacc File for Venezuela was downloaded succesfully!\n",
      "✅ Correct country code for Antigua and Barbuda was assigned.\n"
     ]
    },
    {
     "name": "stderr",
     "output_type": "stream",
     "text": [
      "Processing Countries:  37%|███▋      | 13/35 [00:17<00:38,  1.73s/it]"
     ]
    },
    {
     "name": "stdout",
     "output_type": "stream",
     "text": [
      "Measles Vacc File for Antigua and Barbuda was downloaded succesfully!\n",
      "✅ Correct country code for Bahamas was assigned.\n"
     ]
    },
    {
     "name": "stderr",
     "output_type": "stream",
     "text": [
      "Processing Countries:  40%|████      | 14/35 [00:18<00:32,  1.55s/it]"
     ]
    },
    {
     "name": "stdout",
     "output_type": "stream",
     "text": [
      "Measles Vacc File for Bahamas was downloaded succesfully!\n",
      "✅ Correct country code for Barbados was assigned.\n"
     ]
    },
    {
     "name": "stderr",
     "output_type": "stream",
     "text": [
      "Processing Countries:  43%|████▎     | 15/35 [00:19<00:28,  1.43s/it]"
     ]
    },
    {
     "name": "stdout",
     "output_type": "stream",
     "text": [
      "Measles Vacc File for Barbados was downloaded succesfully!\n",
      "✅ Correct country code for Belize was assigned.\n"
     ]
    },
    {
     "name": "stderr",
     "output_type": "stream",
     "text": [
      "Processing Countries:  46%|████▌     | 16/35 [00:21<00:25,  1.34s/it]"
     ]
    },
    {
     "name": "stdout",
     "output_type": "stream",
     "text": [
      "Measles Vacc File for Belize was downloaded succesfully!\n",
      "✅ Correct country code for Canada was assigned.\n"
     ]
    },
    {
     "name": "stderr",
     "output_type": "stream",
     "text": [
      "Processing Countries:  49%|████▊     | 17/35 [00:22<00:23,  1.28s/it]"
     ]
    },
    {
     "name": "stdout",
     "output_type": "stream",
     "text": [
      "Measles Vacc File for Canada was downloaded succesfully!\n",
      "✅ Correct country code for Costa Rica was assigned.\n"
     ]
    },
    {
     "name": "stderr",
     "output_type": "stream",
     "text": [
      "Processing Countries:  51%|█████▏    | 18/35 [00:23<00:21,  1.25s/it]"
     ]
    },
    {
     "name": "stdout",
     "output_type": "stream",
     "text": [
      "Measles Vacc File for Costa Rica was downloaded succesfully!\n",
      "✅ Correct country code for Cuba was assigned.\n"
     ]
    },
    {
     "name": "stderr",
     "output_type": "stream",
     "text": [
      "Processing Countries:  54%|█████▍    | 19/35 [00:24<00:19,  1.22s/it]"
     ]
    },
    {
     "name": "stdout",
     "output_type": "stream",
     "text": [
      "Measles Vacc File for Cuba was downloaded succesfully!\n",
      "✅ Correct country code for Dominica was assigned.\n"
     ]
    },
    {
     "name": "stderr",
     "output_type": "stream",
     "text": [
      "Processing Countries:  57%|█████▋    | 20/35 [00:25<00:17,  1.15s/it]"
     ]
    },
    {
     "name": "stdout",
     "output_type": "stream",
     "text": [
      "Measles Vacc File for Dominica was downloaded succesfully!\n",
      "✅ Correct country code for Dominican Republic was assigned.\n"
     ]
    },
    {
     "name": "stderr",
     "output_type": "stream",
     "text": [
      "Processing Countries:  60%|██████    | 21/35 [00:26<00:15,  1.09s/it]"
     ]
    },
    {
     "name": "stdout",
     "output_type": "stream",
     "text": [
      "Measles Vacc File for Dominican Republic was downloaded succesfully!\n",
      "✅ Correct country code for El Salvador was assigned.\n"
     ]
    },
    {
     "name": "stderr",
     "output_type": "stream",
     "text": [
      "Processing Countries:  63%|██████▎   | 22/35 [00:27<00:14,  1.11s/it]"
     ]
    },
    {
     "name": "stdout",
     "output_type": "stream",
     "text": [
      "Measles Vacc File for El Salvador was downloaded succesfully!\n",
      "✅ Correct country code for Grenada was assigned.\n"
     ]
    },
    {
     "name": "stderr",
     "output_type": "stream",
     "text": [
      "Processing Countries:  66%|██████▌   | 23/35 [00:28<00:13,  1.13s/it]"
     ]
    },
    {
     "name": "stdout",
     "output_type": "stream",
     "text": [
      "Measles Vacc File for Grenada was downloaded succesfully!\n",
      "✅ Correct country code for Guatemala was assigned.\n"
     ]
    },
    {
     "name": "stderr",
     "output_type": "stream",
     "text": [
      "Processing Countries:  69%|██████▊   | 24/35 [00:29<00:12,  1.14s/it]"
     ]
    },
    {
     "name": "stdout",
     "output_type": "stream",
     "text": [
      "Measles Vacc File for Guatemala was downloaded succesfully!\n",
      "✅ Correct country code for Haiti was assigned.\n"
     ]
    },
    {
     "name": "stderr",
     "output_type": "stream",
     "text": [
      "Processing Countries:  71%|███████▏  | 25/35 [00:30<00:10,  1.09s/it]"
     ]
    },
    {
     "name": "stdout",
     "output_type": "stream",
     "text": [
      "Measles Vacc File for Haiti was downloaded succesfully!\n",
      "✅ Correct country code for Honduras was assigned.\n"
     ]
    },
    {
     "name": "stderr",
     "output_type": "stream",
     "text": [
      "Processing Countries:  74%|███████▍  | 26/35 [00:32<00:09,  1.10s/it]"
     ]
    },
    {
     "name": "stdout",
     "output_type": "stream",
     "text": [
      "Measles Vacc File for Honduras was downloaded succesfully!\n",
      "✅ Correct country code for Jamaica was assigned.\n"
     ]
    },
    {
     "name": "stderr",
     "output_type": "stream",
     "text": [
      "Processing Countries:  77%|███████▋  | 27/35 [00:33<00:08,  1.06s/it]"
     ]
    },
    {
     "name": "stdout",
     "output_type": "stream",
     "text": [
      "Measles Vacc File for Jamaica was downloaded succesfully!\n",
      "✅ Correct country code for Mexico was assigned.\n"
     ]
    },
    {
     "name": "stderr",
     "output_type": "stream",
     "text": [
      "Processing Countries:  80%|████████  | 28/35 [00:34<00:07,  1.09s/it]"
     ]
    },
    {
     "name": "stdout",
     "output_type": "stream",
     "text": [
      "Measles Vacc File for Mexico was downloaded succesfully!\n",
      "✅ Correct country code for Nicaragua was assigned.\n"
     ]
    },
    {
     "name": "stderr",
     "output_type": "stream",
     "text": [
      "Processing Countries:  83%|████████▎ | 29/35 [00:35<00:06,  1.10s/it]"
     ]
    },
    {
     "name": "stdout",
     "output_type": "stream",
     "text": [
      "Measles Vacc File for Nicaragua was downloaded succesfully!\n",
      "✅ Correct country code for Panama was assigned.\n"
     ]
    },
    {
     "name": "stderr",
     "output_type": "stream",
     "text": [
      "Processing Countries:  86%|████████▌ | 30/35 [00:36<00:05,  1.06s/it]"
     ]
    },
    {
     "name": "stdout",
     "output_type": "stream",
     "text": [
      "Measles Vacc File for Panama was downloaded succesfully!\n",
      "✅ Correct country code for Saint Kitts and Nevis was assigned.\n"
     ]
    },
    {
     "name": "stderr",
     "output_type": "stream",
     "text": [
      "Processing Countries:  89%|████████▊ | 31/35 [00:37<00:04,  1.08s/it]"
     ]
    },
    {
     "name": "stdout",
     "output_type": "stream",
     "text": [
      "Measles Vacc File for Saint Kitts and Nevis was downloaded succesfully!\n",
      "✅ Correct country code for Saint Lucia was assigned.\n"
     ]
    },
    {
     "name": "stderr",
     "output_type": "stream",
     "text": [
      "Processing Countries:  91%|█████████▏| 32/35 [00:38<00:03,  1.09s/it]"
     ]
    },
    {
     "name": "stdout",
     "output_type": "stream",
     "text": [
      "Measles Vacc File for Saint Lucia was downloaded succesfully!\n",
      "✅ Correct country code for Saint Vincent and the Grenadines was assigned.\n"
     ]
    },
    {
     "name": "stderr",
     "output_type": "stream",
     "text": [
      "Processing Countries:  94%|█████████▍| 33/35 [00:39<00:02,  1.12s/it]"
     ]
    },
    {
     "name": "stdout",
     "output_type": "stream",
     "text": [
      "Measles Vacc File for Saint Vincent and the Grenadines was downloaded succesfully!\n",
      "✅ Correct country code for Trinidad and Tobago was assigned.\n"
     ]
    },
    {
     "name": "stderr",
     "output_type": "stream",
     "text": [
      "Processing Countries:  97%|█████████▋| 34/35 [00:40<00:01,  1.08s/it]"
     ]
    },
    {
     "name": "stdout",
     "output_type": "stream",
     "text": [
      "Measles Vacc File for Trinidad and Tobago was downloaded succesfully!\n",
      "✅ Correct country code for United States of America was assigned.\n"
     ]
    },
    {
     "name": "stderr",
     "output_type": "stream",
     "text": [
      "Processing Countries: 100%|██████████| 35/35 [00:41<00:00,  1.19s/it]"
     ]
    },
    {
     "name": "stdout",
     "output_type": "stream",
     "text": [
      "Measles Vacc File for United States of America was downloaded succesfully!\n"
     ]
    },
    {
     "name": "stderr",
     "output_type": "stream",
     "text": [
      "\n"
     ]
    }
   ],
   "source": [
    "# Measles vaccination rate database\n",
    "for i in tqdm(range(len(american_countries)), desc=\"Processing Countries\", leave=True, position=0):  \n",
    "    #Let's set the variables we're going to use\n",
    "    name = american_countries[i]  \n",
    "    country_code = american_country_codes.get(name)\n",
    "    output_csv = f'/Users/Kenji-to/Documents/GitHub/Module Challenges/Project 3/Databases_RAW/M_Vaccination_Rate/Meas_Vacc_Rates_{name}.csv'\n",
    "    \n",
    "    if country_code is None:\n",
    "        tqdm.write(f'❗❗❗ Country code for {name} was not found❗❗❗')\n",
    "        continue\n",
    "\n",
    "    if country_code in american_country_codes.values():\n",
    "        tqdm.write(f'✅ Correct country code for {name} was assigned.')\n",
    "    else:\n",
    "        tqdm.write(f'❌ Country code for {name} is incorrect❗')\n",
    "\n",
    "    #Query we're going to use.\n",
    "    retrieve_query = f\"{meas_vacc_rates_url}.csv?filter=COUNTRY:{country_code}\"\n",
    "\n",
    "    try:\n",
    "        response = requests.get(retrieve_query, stream = True)\n",
    "        response.raise_for_status()  \n",
    "\n",
    "        with open(f'/Users/Kenji-to/Documents/GitHub/Module Challenges/Project 3/Databases_RAW/M_Vaccination_Rate/Meas_Vacc_Rates_{name}.csv', 'wb') as file:\n",
    "            for chunk in response.iter_content(chunk_size=8192): \n",
    "                if chunk:\n",
    "                    file.write(chunk)\n",
    "        print(f'Measles Vacc File for {name} was downloaded succesfully!')\n",
    "    \n",
    "    except requests.exceptions.RequestException as e:\n",
    "        print(f'An error occurred. Check the log: {e}')"
   ]
  },
  {
   "cell_type": "code",
   "execution_count": 48,
   "metadata": {},
   "outputs": [
    {
     "name": "stdout",
     "output_type": "stream",
     "text": [
      "Processed: Child_Mortality_Barbados.csv - 31 rows\n",
      "Processed: Child_Mortality_El Salvador.csv - 31 rows\n",
      "Processed: Child_Mortality_Canada.csv - 31 rows\n",
      "Processed: Child_Mortality_Chile.csv - 31 rows\n",
      "Processed: Child_Mortality_Guyana.csv - 31 rows\n",
      "Processed: Child_Mortality_Guatemala.csv - 31 rows\n",
      "Processed: Child_Mortality_Antigua and Barbuda.csv - 31 rows\n",
      "Processed: Child_Mortality_Venezuela.csv - 31 rows\n",
      "Processed: Child_Mortality_Argentina.csv - 31 rows\n",
      "Processed: Child_Mortality_Peru.csv - 31 rows\n",
      "Processed: Child_Mortality_United States of America.csv - 31 rows\n",
      "Processed: Child_Mortality_Costa Rica.csv - 31 rows\n",
      "Processed: Child_Mortality_Haiti.csv - 31 rows\n",
      "Processed: Child_Mortality_Uruguay.csv - 31 rows\n",
      "Processed: Child_Mortality_Paraguay.csv - 31 rows\n",
      "Processed: Child_Mortality_Dominica.csv - 31 rows\n",
      "Processed: Child_Mortality_Mexico.csv - 31 rows\n",
      "Processed: Child_Mortality_Suriname.csv - 31 rows\n",
      "Processed: Child_Mortality_Belize.csv - 31 rows\n",
      "Processed: Child_Mortality_Bahamas.csv - 31 rows\n",
      "Processed: Child_Mortality_Dominican Republic.csv - 31 rows\n",
      "Processed: Child_Mortality_Nicaragua.csv - 31 rows\n",
      "Processed: Child_Mortality_Saint Lucia.csv - 31 rows\n",
      "Processed: Child_Mortality_Bolivia.csv - 31 rows\n",
      "Processed: Child_Mortality_Jamaica.csv - 31 rows\n",
      "Processed: Child_Mortality_Grenada.csv - 31 rows\n",
      "Processed: Child_Mortality_Saint Kitts and Nevis.csv - 31 rows\n",
      "Processed: Child_Mortality_Cuba.csv - 31 rows\n",
      "Processed: Child_Mortality_Brazil.csv - 31 rows\n",
      "Processed: Child_Mortality_Ecuador.csv - 31 rows\n",
      "Processed: Child_Mortality_Saint Vincent and the Grenadines.csv - 31 rows\n",
      "Processed: Child_Mortality_Trinidad and Tobago.csv - 31 rows\n",
      "Processed: Child_Mortality_Colombia.csv - 31 rows\n",
      "Processed: Child_Mortality_Panama.csv - 31 rows\n",
      "Processed: Child_Mortality_Honduras.csv - 31 rows\n",
      "Inserted 1085 records into MongoDB.\n"
     ]
    }
   ],
   "source": [
    "# MongoDB Connection Setup for Child Mortality\n",
    "MONGO_URI = \"mongodb://localhost:27017/\"  \n",
    "DATABASE_NAME = \"proyect3_db\"  \n",
    "COLLECTION_NAME = \"mortality_data\"  \n",
    "output_csv = f'/Users/Kenji-to/Documents/GitHub/Module Challenges/Project 3/Databases_RAW/Child_Mortality/Combined/Combined_Databases.csv'\n",
    "\n",
    "CSV_FOLDER_PATH = \"/Users/Kenji-to/Documents/GitHub/Module Challenges/Project 3/Databases_RAW/Child_Mortality\"  \n",
    "\n",
    "client = MongoClient(MONGO_URI)\n",
    "db = client[DATABASE_NAME]\n",
    "collection = db[COLLECTION_NAME]\n",
    "\n",
    "def import_csv_to_mongodb():\n",
    "    all_data = []\n",
    "\n",
    "    for file_name in os.listdir(CSV_FOLDER_PATH):\n",
    "        if file_name.endswith(\".csv\"):  \n",
    "            file_path = os.path.join(CSV_FOLDER_PATH, file_name)\n",
    "\n",
    "            df = pd.read_csv(file_path, usecols=[\"COUNTRY\", \"YEAR\", \"Numeric\"])\n",
    "\n",
    "            # In order to filter this section, we used AI to help troubleshoot the code\n",
    "            df[\"YEAR\"] = pd.to_numeric(df[\"YEAR\"], errors=\"coerce\")\n",
    "\n",
    "            df = df[(df[\"YEAR\"] >= 1991) & (df[\"YEAR\"] <= 2021)]\n",
    "\n",
    "            data_dict = df.to_dict(orient=\"records\")\n",
    "            all_data.extend(data_dict)\n",
    "\n",
    "            print(f\"Processed: {file_name} - {len(df)} rows\")\n",
    "\n",
    "    if all_data:\n",
    "        collection.insert_many(all_data)\n",
    "        print(f\"Inserted {len(all_data)} records into MongoDB.\")\n",
    "    else:\n",
    "        print(\"No data to insert.\")\n",
    "\n",
    "import_csv_to_mongodb()\n"
   ]
  },
  {
   "cell_type": "code",
   "execution_count": 49,
   "metadata": {},
   "outputs": [
    {
     "name": "stdout",
     "output_type": "stream",
     "text": [
      "Processed: Measles_IncidenceSaint Kitts and Nevis.csv - 31 rows\n",
      "Processed: Measles_IncidenceCuba.csv - 30 rows\n",
      "Processed: Measles_IncidenceCosta Rica.csv - 30 rows\n",
      "Processed: Measles_IncidenceAntigua and Barbuda.csv - 31 rows\n",
      "Processed: Measles_IncidenceUruguay.csv - 31 rows\n",
      "Processed: Measles_IncidenceGuyana.csv - 31 rows\n",
      "Processed: Measles_IncidenceEl Salvador.csv - 30 rows\n",
      "Processed: Measles_IncidenceCanada.csv - 31 rows\n",
      "Processed: Measles_IncidenceBahamas.csv - 31 rows\n",
      "Processed: Measles_IncidenceHaiti.csv - 25 rows\n",
      "Processed: Measles_IncidenceBelize.csv - 31 rows\n",
      "Processed: Measles_IncidenceMexico.csv - 31 rows\n",
      "Processed: Measles_IncidenceHonduras.csv - 31 rows\n",
      "Processed: Measles_IncidenceVenezuela.csv - 31 rows\n",
      "Processed: Measles_IncidenceArgentina.csv - 31 rows\n",
      "Processed: Measles_IncidenceChile.csv - 31 rows\n",
      "Processed: Measles_IncidenceGuatemala.csv - 31 rows\n",
      "Processed: Measles_IncidenceColombia.csv - 31 rows\n",
      "Processed: Measles_IncidenceGrenada.csv - 30 rows\n",
      "Processed: Measles_IncidenceEcuador.csv - 31 rows\n",
      "Processed: Measles_IncidenceSaint Lucia.csv - 31 rows\n",
      "Processed: Measles_IncidenceBarbados.csv - 31 rows\n",
      "Processed: Measles_IncidenceSaint Vincent and the Grenadines.csv - 31 rows\n",
      "Processed: Measles_IncidenceUnited States of America.csv - 30 rows\n",
      "Processed: Measles_IncidenceParaguay.csv - 31 rows\n",
      "Processed: Measles_IncidenceNicaragua.csv - 31 rows\n",
      "Processed: Measles_IncidencePanama.csv - 31 rows\n",
      "Processed: Measles_IncidenceSuriname.csv - 31 rows\n",
      "Processed: Measles_IncidenceDominica.csv - 31 rows\n",
      "Processed: Measles_IncidenceDominican Republic.csv - 31 rows\n",
      "Processed: Measles_IncidenceTrinidad and Tobago.csv - 31 rows\n",
      "Processed: Measles_IncidenceBrazil.csv - 30 rows\n",
      "Processed: Measles_IncidenceBolivia.csv - 31 rows\n",
      "Processed: Measles_IncidencePeru.csv - 31 rows\n",
      "Processed: Measles_IncidenceJamaica.csv - 31 rows\n",
      "Inserted 1073 records into MongoDB.\n"
     ]
    }
   ],
   "source": [
    "# MongoDB Connection Setup for Measles Incidence\n",
    "MONGO_URI = \"mongodb://localhost:27017/\" \n",
    "DATABASE_NAME = \"proyect3_db\"  \n",
    "COLLECTION_NAME = \"measles_inc_data\"  \n",
    "\n",
    "CSV_FOLDER_PATH = '/Users/Kenji-to/Documents/GitHub/Module Challenges/Project 3/Databases_RAW/Measles_Incidence'  \n",
    "\n",
    "client = MongoClient(MONGO_URI)\n",
    "db = client[DATABASE_NAME]\n",
    "collection = db[COLLECTION_NAME]\n",
    "\n",
    "def import_csv_to_mongodb():\n",
    "    all_data = []\n",
    "\n",
    "    for file_name in os.listdir(CSV_FOLDER_PATH):\n",
    "        if file_name.endswith(\".csv\"):  \n",
    "            file_path = os.path.join(CSV_FOLDER_PATH, file_name)\n",
    "\n",
    "            df = pd.read_csv(file_path, usecols=[\"COUNTRY\", \"YEAR\", \"Numeric\"])\n",
    "\n",
    "            # In order to filter this section, we used AI to help troubleshoot the code\n",
    "            df[\"YEAR\"] = pd.to_numeric(df[\"YEAR\"], errors=\"coerce\")\n",
    "\n",
    "            df = df[(df[\"YEAR\"] >= 1991) & (df[\"YEAR\"] <= 2021)]\n",
    "\n",
    "            data_dict = df.to_dict(orient=\"records\")\n",
    "            all_data.extend(data_dict)\n",
    "\n",
    "            print(f\"Processed: {file_name} - {len(df)} rows\")\n",
    "\n",
    "    if all_data:\n",
    "        collection.insert_many(all_data)\n",
    "        print(f\"Inserted {len(all_data)} records into MongoDB.\")\n",
    "    else:\n",
    "        print(\"No data to insert.\")\n",
    "\n",
    "import_csv_to_mongodb()\n"
   ]
  },
  {
   "cell_type": "code",
   "execution_count": 50,
   "metadata": {},
   "outputs": [
    {
     "name": "stdout",
     "output_type": "stream",
     "text": [
      "Processed: Meas_Vacc_Rates_Bolivia.csv - 22 rows\n",
      "Processed: Meas_Vacc_Rates_Jamaica.csv - 22 rows\n",
      "Processed: Meas_Vacc_Rates_United States of America.csv - 22 rows\n",
      "Processed: Meas_Vacc_Rates_Mexico.csv - 22 rows\n",
      "Processed: Meas_Vacc_Rates_Belize.csv - 22 rows\n",
      "Processed: Meas_Vacc_Rates_Venezuela.csv - 22 rows\n",
      "Processed: Meas_Vacc_Rates_Paraguay.csv - 22 rows\n",
      "Processed: Meas_Vacc_Rates_Argentina.csv - 22 rows\n",
      "Processed: Meas_Vacc_Rates_Guatemala.csv - 22 rows\n",
      "Processed: Meas_Vacc_Rates_Suriname.csv - 22 rows\n",
      "Processed: Meas_Vacc_Rates_Dominica.csv - 22 rows\n",
      "Processed: Meas_Vacc_Rates_Barbados.csv - 22 rows\n",
      "Processed: Meas_Vacc_Rates_El Salvador.csv - 22 rows\n",
      "Processed: Meas_Vacc_Rates_Peru.csv - 22 rows\n",
      "Processed: Meas_Vacc_Rates_Antigua and Barbuda.csv - 22 rows\n",
      "Processed: Meas_Vacc_Rates_Ecuador.csv - 22 rows\n",
      "Processed: Meas_Vacc_Rates_Canada.csv - 22 rows\n",
      "Processed: Meas_Vacc_Rates_Grenada.csv - 22 rows\n",
      "Processed: Meas_Vacc_Rates_Guyana.csv - 22 rows\n",
      "Processed: Meas_Vacc_Rates_Saint Vincent and the Grenadines.csv - 22 rows\n",
      "Processed: Meas_Vacc_Rates_Nicaragua.csv - 22 rows\n",
      "Processed: Meas_Vacc_Rates_Haiti.csv - 22 rows\n",
      "Processed: Meas_Vacc_Rates_Trinidad and Tobago.csv - 22 rows\n",
      "Processed: Meas_Vacc_Rates_Panama.csv - 22 rows\n",
      "Processed: Meas_Vacc_Rates_Costa Rica.csv - 22 rows\n",
      "Processed: Meas_Vacc_Rates_Colombia.csv - 22 rows\n",
      "Processed: Meas_Vacc_Rates_Saint Kitts and Nevis.csv - 22 rows\n",
      "Processed: Meas_Vacc_Rates_Cuba.csv - 22 rows\n",
      "Processed: Meas_Vacc_Rates_Honduras.csv - 22 rows\n",
      "Processed: Meas_Vacc_Rates_Brazil.csv - 22 rows\n",
      "Processed: Meas_Vacc_Rates_Chile.csv - 22 rows\n",
      "Processed: Meas_Vacc_Rates_Bahamas.csv - 22 rows\n",
      "Processed: Meas_Vacc_Rates_Saint Lucia.csv - 22 rows\n",
      "Processed: Meas_Vacc_Rates_Dominican Republic.csv - 22 rows\n",
      "Processed: Meas_Vacc_Rates_Uruguay.csv - 22 rows\n",
      "Inserted 770 records into MongoDB.\n"
     ]
    }
   ],
   "source": [
    "# MongoDB Connection Setup for Measles Vaccination Rates\n",
    "MONGO_URI = \"mongodb://localhost:27017/\"  \n",
    "DATABASE_NAME = \"proyect3_db\"  \n",
    "COLLECTION_NAME = \"measles_vacc_data\"  \n",
    "\n",
    "CSV_FOLDER_PATH = '/Users/Kenji-to/Documents/GitHub/Module Challenges/Project 3/Databases_RAW/M_Vaccination_Rate'\n",
    "\n",
    "client = MongoClient(MONGO_URI)\n",
    "db = client[DATABASE_NAME]\n",
    "collection = db[COLLECTION_NAME]\n",
    "\n",
    "def import_csv_to_mongodb():\n",
    "    all_data = []\n",
    "\n",
    "    for file_name in os.listdir(CSV_FOLDER_PATH):\n",
    "        if file_name.endswith(\".csv\"): \n",
    "            file_path = os.path.join(CSV_FOLDER_PATH, file_name)\n",
    "\n",
    "            df = pd.read_csv(file_path, usecols=[\"COUNTRY\", \"YEAR\", \"Numeric\"])\n",
    "\n",
    "            # In order to filter this section, we used AI to help troubleshoot the code\n",
    "            df[\"YEAR\"] = pd.to_numeric(df[\"YEAR\"], errors=\"coerce\")\n",
    "\n",
    "            df = df[(df[\"YEAR\"] >= 1991) & (df[\"YEAR\"] <= 2021)]\n",
    "\n",
    "            data_dict = df.to_dict(orient=\"records\")\n",
    "            all_data.extend(data_dict)\n",
    "\n",
    "            print(f\"Processed: {file_name} - {len(df)} rows\")\n",
    "\n",
    "    if all_data:\n",
    "        collection.insert_many(all_data)\n",
    "        print(f\"Inserted {len(all_data)} records into MongoDB.\")\n",
    "    else:\n",
    "        print(\"No data to insert.\")\n",
    "\n",
    "import_csv_to_mongodb()\n"
   ]
  },
  {
   "cell_type": "code",
   "execution_count": 51,
   "metadata": {},
   "outputs": [
    {
     "name": "stdout",
     "output_type": "stream",
     "text": [
      "Processed: DTP3_Vacc_Rates_United States of America.csv - 22 rows\n",
      "Processed: DTP3_Vacc_Rates_Dominica.csv - 22 rows\n",
      "Processed: DTP3_Vacc_Rates_Ecuador.csv - 22 rows\n",
      "Processed: DTP3_Vacc_Rates_Suriname.csv - 22 rows\n",
      "Processed: DTP3_Vacc_Rates_Paraguay.csv - 22 rows\n",
      "Processed: DTP3_Vacc_Rates_Grenada.csv - 22 rows\n",
      "Processed: DTP3_Vacc_Rates_El Salvador.csv - 22 rows\n",
      "Processed: DTP3_Vacc_Rates_Trinidad and Tobago.csv - 22 rows\n",
      "Processed: DTP3_Vacc_Rates_Brazil.csv - 22 rows\n",
      "Processed: DTP3_Vacc_Rates_Panama.csv - 22 rows\n",
      "Processed: DTP3_Vacc_Rates_Jamaica.csv - 22 rows\n",
      "Processed: DTP3_Vacc_Rates_Nicaragua.csv - 22 rows\n",
      "Processed: DTP3_Vacc_Rates_Dominican Republic.csv - 22 rows\n",
      "Processed: DTP3_Vacc_Rates_Bolivia.csv - 22 rows\n",
      "Processed: DTP3_Vacc_Rates_Cuba.csv - 22 rows\n",
      "Processed: DTP3_Vacc_Rates_Saint Kitts and Nevis.csv - 22 rows\n",
      "Processed: DTP3_Vacc_Rates_Barbados.csv - 22 rows\n",
      "Processed: DTP3_Vacc_Rates_Costa Rica.csv - 22 rows\n",
      "Processed: DTP3_Vacc_Rates_Uruguay.csv - 22 rows\n",
      "Processed: DTP3_Vacc_Rates_Peru.csv - 22 rows\n",
      "Processed: DTP3_Vacc_Rates_Honduras.csv - 22 rows\n",
      "Processed: DTP3_Vacc_Rates_Guyana.csv - 22 rows\n",
      "Processed: DTP3_Vacc_Rates_Canada.csv - 22 rows\n",
      "Processed: DTP3_Vacc_Rates_Colombia.csv - 22 rows\n",
      "Processed: DTP3_Vacc_Rates_Bahamas.csv - 22 rows\n",
      "Processed: DTP3_Vacc_Rates_Chile.csv - 22 rows\n",
      "Processed: DTP3_Vacc_Rates_Saint Lucia.csv - 22 rows\n",
      "Processed: DTP3_Vacc_Rates_Guatemala.csv - 22 rows\n",
      "Processed: DTP3_Vacc_Rates_Argentina.csv - 22 rows\n",
      "Processed: DTP3_Vacc_Rates_Venezuela.csv - 22 rows\n",
      "Processed: DTP3_Vacc_Rates_Antigua and Barbuda.csv - 22 rows\n",
      "Processed: DTP3_Vacc_Rates_Saint Vincent and the Grenadines.csv - 22 rows\n",
      "Processed: DTP3_Vacc_Rates_Belize.csv - 22 rows\n",
      "Processed: DTP3_Vacc_Rates_Mexico.csv - 22 rows\n",
      "Processed: DTP3_Vacc_Rates_Haiti.csv - 22 rows\n",
      "Inserted 770 records into MongoDB.\n"
     ]
    }
   ],
   "source": [
    "# MongoDB Connection Setup for DTP Vaccination Rates\n",
    "MONGO_URI = \"mongodb://localhost:27017/\" \n",
    "DATABASE_NAME = \"proyect3_db\"  \n",
    "COLLECTION_NAME = \"dtp_vacc_data\"  \n",
    "\n",
    "CSV_FOLDER_PATH = '/Users/Kenji-to/Documents/GitHub/Module Challenges/Project 3/Databases_RAW/Vaccination_Rate'  \n",
    "\n",
    "client = MongoClient(MONGO_URI)\n",
    "db = client[DATABASE_NAME]\n",
    "collection = db[COLLECTION_NAME]\n",
    "\n",
    "def import_csv_to_mongodb():\n",
    "    all_data = []\n",
    "\n",
    "    for file_name in os.listdir(CSV_FOLDER_PATH):\n",
    "        if file_name.endswith(\".csv\"):  \n",
    "            file_path = os.path.join(CSV_FOLDER_PATH, file_name)\n",
    "\n",
    "            df = pd.read_csv(file_path, usecols=[\"COUNTRY\", \"YEAR\", \"Numeric\"])\n",
    "\n",
    "            # In order to filter this section, we used AI to help troubleshoot the code\n",
    "            df[\"YEAR\"] = pd.to_numeric(df[\"YEAR\"], errors=\"coerce\")\n",
    "\n",
    "            df = df[(df[\"YEAR\"] >= 1991) & (df[\"YEAR\"] <= 2021)]\n",
    "\n",
    "            data_dict = df.to_dict(orient=\"records\")\n",
    "            all_data.extend(data_dict)\n",
    "\n",
    "            print(f\"Processed: {file_name} - {len(df)} rows\")\n",
    "\n",
    "    if all_data:\n",
    "        collection.insert_many(all_data)\n",
    "        print(f\"Inserted {len(all_data)} records into MongoDB.\")\n",
    "    else:\n",
    "        print(\"No data to insert.\")\n",
    "\n",
    "import_csv_to_mongodb()\n"
   ]
  },
  {
   "cell_type": "code",
   "execution_count": 52,
   "metadata": {},
   "outputs": [
    {
     "name": "stdout",
     "output_type": "stream",
     "text": [
      "Processed: Pertussis_Incidence_Antigua and Barbuda.csv - 31 rows\n",
      "Processed: Pertussis_Incidence_Honduras.csv - 31 rows\n",
      "Processed: Pertussis_Incidence_Ecuador.csv - 30 rows\n",
      "Processed: Pertussis_Incidence_Grenada.csv - 31 rows\n",
      "Processed: Pertussis_Incidence_Costa Rica.csv - 31 rows\n",
      "Processed: Pertussis_Incidence_Saint Vincent and the Grenadines.csv - 31 rows\n",
      "Processed: Pertussis_Incidence_Saint Kitts and Nevis.csv - 31 rows\n",
      "Processed: Pertussis_Incidence_Colombia.csv - 31 rows\n",
      "Processed: Pertussis_Incidence_Haiti.csv - 23 rows\n",
      "Processed: Pertussis_Incidence_Nicaragua.csv - 31 rows\n",
      "Processed: Pertussis_Incidence_Panama.csv - 31 rows\n",
      "Processed: Pertussis_Incidence_Chile.csv - 31 rows\n",
      "Processed: Pertussis_Incidence_Bolivia.csv - 31 rows\n",
      "Processed: Pertussis_Incidence_Jamaica.csv - 31 rows\n",
      "Processed: Pertussis_Incidence_Peru.csv - 31 rows\n",
      "Processed: Pertussis_Incidence_Brazil.csv - 31 rows\n",
      "Processed: Pertussis_Incidence_El Salvador.csv - 31 rows\n",
      "Processed: Pertussis_Incidence_Dominica.csv - 31 rows\n",
      "Processed: Pertussis_Incidence_Suriname.csv - 29 rows\n",
      "Processed: Pertussis_Incidence_Cuba.csv - 30 rows\n",
      "Processed: Pertussis_Incidence_Paraguay.csv - 31 rows\n",
      "Processed: Pertussis_Incidence_Guatemala.csv - 31 rows\n",
      "Processed: Pertussis_Incidence_Uruguay.csv - 31 rows\n",
      "Processed: Pertussis_Incidence_Venezuela.csv - 30 rows\n",
      "Processed: Pertussis_Incidence_Argentina.csv - 31 rows\n",
      "Processed: Pertussis_Incidence_Guyana.csv - 30 rows\n",
      "Processed: Pertussis_Incidence_Canada.csv - 31 rows\n",
      "Processed: Pertussis_Incidence_United States of America.csv - 30 rows\n",
      "Processed: Pertussis_Incidence_Bahamas.csv - 31 rows\n",
      "Processed: Pertussis_Incidence_Belize.csv - 31 rows\n",
      "Processed: Pertussis_Incidence_Mexico.csv - 31 rows\n",
      "Processed: Pertussis_Incidence_Saint Lucia.csv - 31 rows\n",
      "Processed: Pertussis_Incidence_Dominican Republic.csv - 31 rows\n",
      "Processed: Pertussis_Incidence_Barbados.csv - 31 rows\n",
      "Processed: Pertussis_Incidence_Trinidad and Tobago.csv - 31 rows\n",
      "Inserted 1070 records into MongoDB.\n"
     ]
    }
   ],
   "source": [
    "# MongoDB Connection Setup for Pertussis incidence Rates\n",
    "MONGO_URI = \"mongodb://localhost:27017/\"  \n",
    "DATABASE_NAME = \"proyect3_db\" \n",
    "COLLECTION_NAME = \"Pert_incidence_data\"  \n",
    "\n",
    "CSV_FOLDER_PATH = '/Users/Kenji-to/Documents/GitHub/Module Challenges/Project 3/Databases_RAW/Pertussis_Incidence'  \n",
    "\n",
    "client = MongoClient(MONGO_URI)\n",
    "db = client[DATABASE_NAME]\n",
    "collection = db[COLLECTION_NAME]\n",
    "\n",
    "def import_csv_to_mongodb():\n",
    "    all_data = []\n",
    "\n",
    "    for file_name in os.listdir(CSV_FOLDER_PATH):\n",
    "        if file_name.endswith(\".csv\"): \n",
    "            file_path = os.path.join(CSV_FOLDER_PATH, file_name)\n",
    "\n",
    "            df = pd.read_csv(file_path, usecols=[\"COUNTRY\", \"YEAR\", \"Numeric\"])\n",
    "\n",
    "            # In order to filter this section, we used AI to help troubleshoot the code\n",
    "            df[\"YEAR\"] = pd.to_numeric(df[\"YEAR\"], errors=\"coerce\")\n",
    "\n",
    "            df = df[(df[\"YEAR\"] >= 1991) & (df[\"YEAR\"] <= 2021)]\n",
    "\n",
    "            data_dict = df.to_dict(orient=\"records\")\n",
    "            all_data.extend(data_dict)\n",
    "\n",
    "            print(f\"Processed: {file_name} - {len(df)} rows\")\n",
    "\n",
    "    if all_data:\n",
    "        collection.insert_many(all_data)\n",
    "        print(f\"Inserted {len(all_data)} records into MongoDB.\")\n",
    "    else:\n",
    "        print(\"No data to insert.\")\n",
    "\n",
    "import_csv_to_mongodb()\n"
   ]
  },
  {
   "cell_type": "code",
   "execution_count": 53,
   "metadata": {},
   "outputs": [
    {
     "name": "stdout",
     "output_type": "stream",
     "text": [
      "Processed: Tetanus_Incidence_Haiti.csv - 25 rows\n",
      "Processed: Tetanus_Incidence_Honduras.csv - 31 rows\n",
      "Processed: Tetanus_Incidence_Saint Vincent and the Grenadines.csv - 31 rows\n",
      "Processed: Tetanus_Incidence_Belize.csv - 31 rows\n",
      "Processed: Tetanus_Incidence_Mexico.csv - 31 rows\n",
      "Processed: Tetanus_Incidence_Grenada.csv - 31 rows\n",
      "Processed: Tetanus_Incidence_Ecuador.csv - 30 rows\n",
      "Processed: Tetanus_Incidence_Colombia.csv - 31 rows\n",
      "Processed: Tetanus_Incidence_El Salvador.csv - 31 rows\n",
      "Processed: Tetanus_Incidence_Bolivia.csv - 31 rows\n",
      "Processed: Tetanus_Incidence_Guatemala.csv - 31 rows\n",
      "Processed: Tetanus_Incidence_Cuba.csv - 30 rows\n",
      "Processed: Tetanus_Incidence_Guyana.csv - 31 rows\n",
      "Processed: Tetanus_Incidence_Canada.csv - 21 rows\n",
      "Processed: Tetanus_Incidence_Chile.csv - 31 rows\n",
      "Processed: Tetanus_Incidence_Venezuela.csv - 31 rows\n",
      "Processed: Tetanus_Incidence_Argentina.csv - 30 rows\n",
      "Processed: Tetanus_Incidence_Jamaica.csv - 31 rows\n",
      "Processed: Tetanus_Incidence_Trinidad and Tobago.csv - 30 rows\n",
      "Processed: Tetanus_Incidence_Brazil.csv - 31 rows\n",
      "Processed: Tetanus_Incidence_United States of America.csv - 25 rows\n",
      "Processed: Tetanus_Incidence_Bahamas.csv - 31 rows\n",
      "Processed: Tetanus_Incidence_Paraguay.csv - 31 rows\n",
      "Processed: Tetanus_Incidence_Antigua and Barbuda.csv - 31 rows\n",
      "Processed: Tetanus_Incidence_Suriname.csv - 31 rows\n",
      "Processed: Tetanus_Incidence_Dominica.csv - 31 rows\n",
      "Processed: Tetanus_Incidence_Peru.csv - 31 rows\n",
      "Processed: Tetanus_Incidence_Panama.csv - 31 rows\n",
      "Processed: Tetanus_Incidence_Uruguay.csv - 31 rows\n",
      "Processed: Tetanus_Incidence_Dominican Republic.csv - 31 rows\n",
      "Processed: Tetanus_Incidence_Costa Rica.csv - 29 rows\n",
      "Processed: Tetanus_Incidence_Saint Lucia.csv - 31 rows\n",
      "Processed: Tetanus_Incidence_Saint Kitts and Nevis.csv - 31 rows\n",
      "Processed: Tetanus_Incidence_Barbados.csv - 31 rows\n",
      "Processed: Tetanus_Incidence_Nicaragua.csv - 31 rows\n",
      "Inserted 1057 records into MongoDB.\n"
     ]
    }
   ],
   "source": [
    "# MongoDB Connection Setup for Tetanus incidence Rates\n",
    "MONGO_URI = \"mongodb://localhost:27017/\" \n",
    "DATABASE_NAME = \"proyect3_db\"  \n",
    "COLLECTION_NAME = \"Tet_incidence_data\"  \n",
    "\n",
    "CSV_FOLDER_PATH = '/Users/Kenji-to/Documents/GitHub/Module Challenges/Project 3/Databases_RAW/Tetanus_Incidence'  \n",
    "\n",
    "client = MongoClient(MONGO_URI)\n",
    "db = client[DATABASE_NAME]\n",
    "collection = db[COLLECTION_NAME]\n",
    "\n",
    "def import_csv_to_mongodb():\n",
    "    all_data = []\n",
    "\n",
    "    for file_name in os.listdir(CSV_FOLDER_PATH):\n",
    "        if file_name.endswith(\".csv\"):  \n",
    "            file_path = os.path.join(CSV_FOLDER_PATH, file_name)\n",
    "\n",
    "            df = pd.read_csv(file_path, usecols=[\"COUNTRY\", \"YEAR\", \"Numeric\"])\n",
    "\n",
    "            # In order to filter this section, we used AI to help troubleshoot the code\n",
    "            df[\"YEAR\"] = pd.to_numeric(df[\"YEAR\"], errors=\"coerce\")\n",
    "\n",
    "            df = df[(df[\"YEAR\"] >= 1991) & (df[\"YEAR\"] <= 2021)]\n",
    "\n",
    "            data_dict = df.to_dict(orient=\"records\")\n",
    "            all_data.extend(data_dict)\n",
    "\n",
    "            print(f\"Processed: {file_name} - {len(df)} rows\")\n",
    "\n",
    "    if all_data:\n",
    "        collection.insert_many(all_data)\n",
    "        print(f\"Inserted {len(all_data)} records into MongoDB.\")\n",
    "    else:\n",
    "        print(\"No data to insert.\")\n",
    "\n",
    "import_csv_to_mongodb()\n"
   ]
  },
  {
   "cell_type": "code",
   "execution_count": 54,
   "metadata": {},
   "outputs": [
    {
     "name": "stdout",
     "output_type": "stream",
     "text": [
      "Processed: Diphtheria_Incidence_Saint Vincent and the Grenadines.csv - 31 rows\n",
      "Processed: Diphtheria_Incidence_Peru.csv - 31 rows\n",
      "Processed: Diphtheria_Incidence_Canada.csv - 31 rows\n",
      "Processed: Diphtheria_Incidence_Guyana.csv - 31 rows\n",
      "Processed: Diphtheria_Incidence_Haiti.csv - 27 rows\n",
      "Processed: Diphtheria_Incidence_Costa Rica.csv - 30 rows\n",
      "Processed: Diphtheria_Incidence_Jamaica.csv - 31 rows\n",
      "Processed: Diphtheria_Incidence_Dominica.csv - 31 rows\n",
      "Processed: Diphtheria_Incidence_Suriname.csv - 31 rows\n",
      "Processed: Diphtheria_Incidence_Paraguay.csv - 31 rows\n",
      "Processed: Diphtheria_Incidence_Bolivia.csv - 31 rows\n",
      "Processed: Diphtheria_Incidence_Trinidad and Tobago.csv - 29 rows\n",
      "Processed: Diphtheria_Incidence_Chile.csv - 31 rows\n",
      "Processed: Diphtheria_Incidence_Grenada.csv - 31 rows\n",
      "Processed: Diphtheria_Incidence_Barbados.csv - 31 rows\n",
      "Processed: Diphtheria_Incidence_Ecuador.csv - 31 rows\n",
      "Processed: Diphtheria_Incidence_Mexico.csv - 31 rows\n",
      "Processed: Diphtheria_Incidence_Belize.csv - 31 rows\n",
      "Processed: Diphtheria_Incidence_Saint Lucia.csv - 31 rows\n",
      "Processed: Diphtheria_Incidence_Nicaragua.csv - 31 rows\n",
      "Processed: Diphtheria_Incidence_Colombia.csv - 31 rows\n",
      "Processed: Diphtheria_Incidence_Dominican Republic.csv - 31 rows\n",
      "Processed: Diphtheria_Incidence_Honduras.csv - 31 rows\n",
      "Processed: Diphtheria_Incidence_Saint Kitts and Nevis.csv - 31 rows\n",
      "Processed: Diphtheria_Incidence_United States of America.csv - 30 rows\n",
      "Processed: Diphtheria_Incidence_Brazil.csv - 31 rows\n",
      "Processed: Diphtheria_Incidence_Guatemala.csv - 31 rows\n",
      "Processed: Diphtheria_Incidence_El Salvador.csv - 31 rows\n",
      "Processed: Diphtheria_Incidence_Argentina.csv - 31 rows\n",
      "Processed: Diphtheria_Incidence_Antigua and Barbuda.csv - 31 rows\n",
      "Processed: Diphtheria_Incidence_Uruguay.csv - 31 rows\n",
      "Processed: Diphtheria_Incidence_Venezuela.csv - 31 rows\n",
      "Processed: Diphtheria_Incidence_Bahamas.csv - 31 rows\n",
      "Processed: Diphtheria_Incidence_Panama.csv - 31 rows\n",
      "Processed: Diphtheria_Incidence_Cuba.csv - 30 rows\n",
      "Inserted 1076 records into MongoDB.\n"
     ]
    }
   ],
   "source": [
    "# MongoDB Connection Setup for Diphtheria incidence Rates\n",
    "MONGO_URI = \"mongodb://localhost:27017/\"  \n",
    "DATABASE_NAME = \"proyect3_db\"  \n",
    "COLLECTION_NAME = \"Diphth_incidence_data\"  \n",
    "\n",
    "CSV_FOLDER_PATH = '/Users/Kenji-to/Documents/GitHub/Module Challenges/Project 3/Databases_RAW/Diphtheria_Incidence'\n",
    "\n",
    "client = MongoClient(MONGO_URI)\n",
    "db = client[DATABASE_NAME]\n",
    "collection = db[COLLECTION_NAME]\n",
    "\n",
    "\n",
    "def import_csv_to_mongodb():\n",
    "    all_data = []\n",
    "\n",
    "\n",
    "    for file_name in os.listdir(CSV_FOLDER_PATH):\n",
    "        if file_name.endswith(\".csv\"): \n",
    "            file_path = os.path.join(CSV_FOLDER_PATH, file_name)\n",
    "\n",
    "            df = pd.read_csv(file_path, usecols=[\"COUNTRY\", \"YEAR\", \"Numeric\"])\n",
    "\n",
    "            # In order to filter this section, we used AI to help troubleshoot the code\n",
    "            df[\"YEAR\"] = pd.to_numeric(df[\"YEAR\"], errors=\"coerce\")\n",
    "\n",
    "            df = df[(df[\"YEAR\"] >= 1991) & (df[\"YEAR\"] <= 2021)]\n",
    "\n",
    "            data_dict = df.to_dict(orient=\"records\")\n",
    "            all_data.extend(data_dict)\n",
    "\n",
    "            print(f\"Processed: {file_name} - {len(df)} rows\")\n",
    "\n",
    "    if all_data:\n",
    "        collection.insert_many(all_data)\n",
    "        print(f\"Inserted {len(all_data)} records into MongoDB.\")\n",
    "    else:\n",
    "        print(\"No data to insert.\")\n",
    "\n",
    "import_csv_to_mongodb()\n"
   ]
  },
  {
   "cell_type": "code",
   "execution_count": null,
   "metadata": {},
   "outputs": [],
   "source": [
    "#List of terminal commands to export all databases as Json files\n",
    "\n",
    "# mongoexport --db=proyect3_db --collection=diphth_incidence_data --out=diphth_incidence_data.json --jsonArray\n",
    "# mongoexport --db=proyect3_db --collection=dtp_vacc_data --out=dtp_vacc_data.json --jsonArray\n",
    "# mongoexport --db=proyect3_db --collection=measles_inc_data --out=measles_inc_data.json --jsonArray\n",
    "# mongoexport --db=proyect3_db --collection=measles_vacc_data --out=measles_vacc_data.json --jsonArray\n",
    "# mongoexport --db=proyect3_db --collection=mortality_data --out=mortality_data.json --jsonArray\n",
    "# mongoexport --db=proyect3_db --collection=Pert_incidence_data --out=Pert_incidence_data.json --jsonArray\n",
    "# mongoexport --db=proyect3_db --collection=Tet_incidence_data --out=Tet_incidence_data.json --jsonArray\n",
    "\n",
    "\n",
    "\n"
   ]
  }
 ],
 "metadata": {
  "kernelspec": {
   "display_name": "Python 3 (ipykernel)",
   "language": "python",
   "name": "python3"
  },
  "language_info": {
   "codemirror_mode": {
    "name": "ipython",
    "version": 3
   },
   "file_extension": ".py",
   "mimetype": "text/x-python",
   "name": "python",
   "nbconvert_exporter": "python",
   "pygments_lexer": "ipython3",
   "version": "3.10.15"
  }
 },
 "nbformat": 4,
 "nbformat_minor": 4
}
